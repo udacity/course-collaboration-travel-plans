{
  "nbformat": 4,
  "nbformat_minor": 0,
  "metadata": {
    "colab": {
      "name": "CAP_Apache_Spark_Colab_2021.ipynb",
      "provenance": [],
      "collapsed_sections": [
        "BYkPQP4Y0C3r",
        "Q3B58xLV-M4k",
        "abLWyOFm_vF_",
        "jDo0xp9kA-Y1",
        "m5iNbIIXGNI2",
        "sVwzNeG7HBPG",
        "9DRWkJpkNUck",
        "CGiwTDTq7rqs",
        "v-IRLtMwcuER",
        "qGV5Rs-f7COd",
        "ISw1JP9oz6kw"
      ],
      "include_colab_link": true
    },
    "kernelspec": {
      "name": "python3",
      "display_name": "Python 3"
    }
  },
  "cells": [
    {
      "cell_type": "markdown",
      "metadata": {
        "id": "view-in-github",
        "colab_type": "text"
      },
      "source": [
        "<a href=\"https://colab.research.google.com/github/juanmelafias/course-collaboration-travel-plans/blob/master/CAP_Apache_Spark_Colab_2021.ipynb\" target=\"_parent\"><img src=\"https://colab.research.google.com/assets/colab-badge.svg\" alt=\"Open In Colab\"/></a>"
      ]
    },
    {
      "cell_type": "markdown",
      "metadata": {
        "id": "BYkPQP4Y0C3r"
      },
      "source": [
        "# Puesta en marcha"
      ]
    },
    {
      "cell_type": "markdown",
      "metadata": {
        "id": "OQ2moRUX1DfG"
      },
      "source": [
        "Una de las formas más fáciles (*hay muchas) de empezar con PySpark es usando Google Colab. Para instalar PySpark en su máquina virtual Colab, debe ejecutar los siguientes códigos.\n",
        "Dicho esto, encontrarás el código abajo en los otros cuadernos de laboratorio, cada vez que usemos PySpark. Además, el código aquí es sólo para el entorno Colab. Si ha configurado PySpark en su máquina local o en otro entorno propio, no necesitará ejecutar los códigos siguientes."
      ]
    },
    {
      "cell_type": "code",
      "metadata": {
        "id": "0DPTwsL8Bgne"
      },
      "source": [
        "!apt-get install openjdk-8-jdk-headless -qq > /dev/null\n",
        "!wget -q https://dlcdn.apache.org/spark/spark-3.1.2/spark-3.1.2-bin-hadoop3.2.tgz\n",
        "!tar xf spark-3.1.2-bin-hadoop3.2.tgz\n",
        "!pip install -q findspark"
      ],
      "execution_count": null,
      "outputs": []
    },
    {
      "cell_type": "code",
      "metadata": {
        "id": "ayGL-XfTiDcp"
      },
      "source": [
        "import os\n",
        "os.environ[\"JAVA_HOME\"] = \"/usr/lib/jvm/java-8-openjdk-amd64\"\n",
        "os.environ[\"SPARK_HOME\"] = \"/content/spark-3.1.2-bin-hadoop3.2\""
      ],
      "execution_count": null,
      "outputs": []
    },
    {
      "cell_type": "code",
      "metadata": {
        "id": "Yf3ygXunMUnf"
      },
      "source": [
        "import findspark\n",
        "findspark.init()"
      ],
      "execution_count": null,
      "outputs": []
    },
    {
      "cell_type": "code",
      "metadata": {
        "id": "EcUvT_eEiLv2",
        "colab": {
          "base_uri": "https://localhost:8080/",
          "height": 219
        },
        "outputId": "53439ccf-419a-474a-b12e-d911b8e4950c"
      },
      "source": [
        "from pyspark.sql import SparkSession\n",
        "from pyspark import SparkContext, SparkConf\n",
        "\n",
        "conf = SparkConf().set('spark.ui.port', '4050')\n",
        "sc = SparkContext(conf=conf)\n",
        "spark = SparkSession.builder.master('local[*]').getOrCreate()\n",
        "\n",
        "spark"
      ],
      "execution_count": null,
      "outputs": [
        {
          "output_type": "execute_result",
          "data": {
            "text/html": [
              "\n",
              "            <div>\n",
              "                <p><b>SparkSession - in-memory</b></p>\n",
              "                \n",
              "        <div>\n",
              "            <p><b>SparkContext</b></p>\n",
              "\n",
              "            <p><a href=\"http://7d47bf9c0503:4050\">Spark UI</a></p>\n",
              "\n",
              "            <dl>\n",
              "              <dt>Version</dt>\n",
              "                <dd><code>v3.1.2</code></dd>\n",
              "              <dt>Master</dt>\n",
              "                <dd><code>local[*]</code></dd>\n",
              "              <dt>AppName</dt>\n",
              "                <dd><code>pyspark-shell</code></dd>\n",
              "            </dl>\n",
              "        </div>\n",
              "        \n",
              "            </div>\n",
              "        "
            ],
            "text/plain": [
              "<pyspark.sql.session.SparkSession at 0x7f4b9437bb90>"
            ]
          },
          "metadata": {},
          "execution_count": 4
        }
      ]
    },
    {
      "cell_type": "code",
      "metadata": {
        "id": "G3hdLRWsXsu9"
      },
      "source": [
        "fichero = sc.textFile('palabras.txt')"
      ],
      "execution_count": 5,
      "outputs": []
    },
    {
      "cell_type": "markdown",
      "metadata": {
        "id": "iOkVzQz1kNJA"
      },
      "source": [
        "Colocando un numero tras coma después del fichero, divdiimos el procesamiento de la tarea en n particiones. Esta partición tambien se puede hacer mas adelante con el metodo .repartition. Esto se hace para tener un grado más alto de paralelismo"
      ]
    },
    {
      "cell_type": "code",
      "metadata": {
        "id": "YzTWh_QSkAbF"
      },
      "source": [
        "fichero = sc.textFile('palabras.txt',4)"
      ],
      "execution_count": null,
      "outputs": []
    },
    {
      "cell_type": "code",
      "metadata": {
        "id": "bSR6lg5QX14g"
      },
      "source": [
        "a = fichero.count()"
      ],
      "execution_count": 6,
      "outputs": []
    },
    {
      "cell_type": "code",
      "metadata": {
        "colab": {
          "base_uri": "https://localhost:8080/"
        },
        "id": "SV1SbiRCX66q",
        "outputId": "eed2df36-57cb-4c44-9bcb-faf0fa7b27f2"
      },
      "source": [
        "print(a)"
      ],
      "execution_count": 7,
      "outputs": [
        {
          "output_type": "stream",
          "name": "stdout",
          "text": [
            "107714\n"
          ]
        }
      ]
    },
    {
      "cell_type": "code",
      "metadata": {
        "colab": {
          "base_uri": "https://localhost:8080/"
        },
        "id": "n6QLyITDYg17",
        "outputId": "29d233bc-1263-43cc-c0e1-4b9112f6813f"
      },
      "source": [
        "fichero.take(10)"
      ],
      "execution_count": 8,
      "outputs": [
        {
          "output_type": "execute_result",
          "data": {
            "text/plain": [
              "['a',\n",
              " 'aba',\n",
              " 'abaá',\n",
              " 'ababillarse',\n",
              " 'ababol',\n",
              " 'abacá',\n",
              " 'abacal',\n",
              " 'abacalera',\n",
              " 'abacalero',\n",
              " 'abacera']"
            ]
          },
          "metadata": {},
          "execution_count": 8
        }
      ]
    },
    {
      "cell_type": "code",
      "metadata": {
        "id": "y6m00paseGN0"
      },
      "source": [
        "def notilde(a):\n",
        "  if a in ['ú','ü']:\n",
        "    return 'u'\n",
        "  elif a in ['á']:\n",
        "    return 'a'\n",
        "  elif a in ['í']:\n",
        "    return 'i'   \n",
        "  elif a in ['ó']:\n",
        "    return 'o'\n",
        "  elif a in ['é']:\n",
        "    return 'e'\n",
        "  else:\n",
        "    return a\n",
        "  "
      ],
      "execution_count": null,
      "outputs": []
    },
    {
      "cell_type": "code",
      "metadata": {
        "id": "_07jTHWC8xtF"
      },
      "source": [
        "b = fichero()"
      ],
      "execution_count": null,
      "outputs": []
    },
    {
      "cell_type": "code",
      "metadata": {
        "id": "iPybsR9X92Qb"
      },
      "source": [
        "def spellchecker(a,b):\n",
        "  if a in [b]:\n",
        "    return True\n",
        "  else:\n",
        "    return False"
      ],
      "execution_count": 13,
      "outputs": []
    },
    {
      "cell_type": "code",
      "metadata": {
        "id": "87VrMUYtgbpg"
      },
      "source": [
        "def esvocal(a):\n",
        "  if a in ['a','e','i','o','u']:\n",
        "    return True\n",
        "  else:\n",
        "    return False"
      ],
      "execution_count": null,
      "outputs": []
    },
    {
      "cell_type": "code",
      "metadata": {
        "colab": {
          "base_uri": "https://localhost:8080/",
          "height": 35
        },
        "id": "u_LofR1HfhX5",
        "outputId": "0cd2918c-2d07-4894-852f-5ec891a92da4"
      },
      "source": [
        "notilde('ü')"
      ],
      "execution_count": null,
      "outputs": [
        {
          "output_type": "execute_result",
          "data": {
            "application/vnd.google.colaboratory.intrinsic+json": {
              "type": "string"
            },
            "text/plain": [
              "'u'"
            ]
          },
          "metadata": {},
          "execution_count": 19
        }
      ]
    },
    {
      "cell_type": "code",
      "metadata": {
        "colab": {
          "base_uri": "https://localhost:8080/"
        },
        "id": "Z_1iL-zx_M-T",
        "outputId": "f72e86a4-b37f-42d8-a0cd-4dd6e69befc5"
      },
      "source": [
        "b = fichero.filter(lambda x: spellchecker(x,'fdf'))\n",
        "b.isEmpty()\n",
        "if b is"
      ],
      "execution_count": 17,
      "outputs": [
        {
          "output_type": "execute_result",
          "data": {
            "text/plain": [
              "True"
            ]
          },
          "metadata": {},
          "execution_count": 17
        }
      ]
    },
    {
      "cell_type": "code",
      "metadata": {
        "colab": {
          "base_uri": "https://localhost:8080/",
          "height": 197
        },
        "id": "jcoOLYDSfuNt",
        "outputId": "45ab3408-2fcc-40c6-8647-c7ca6b322c9a"
      },
      "source": [
        "b = fichero.flatMap(lambda x: x.lower())\n",
        "c = b.map(lambda x: notilde(x)).filter(esvocal).map(lambda x: (x,1))\n",
        "d = c.reduceByKey(lambda x,y: x+y)\n",
        "fin = d.sortBy(lambda x: x[1], False).collect()\n",
        "#fin.repartition(1,1).saveasTextFile('salida4')"
      ],
      "execution_count": null,
      "outputs": [
        {
          "output_type": "error",
          "ename": "AttributeError",
          "evalue": "ignored",
          "traceback": [
            "\u001b[0;31m---------------------------------------------------------------------------\u001b[0m",
            "\u001b[0;31mAttributeError\u001b[0m                            Traceback (most recent call last)",
            "\u001b[0;32m<ipython-input-33-2d29b13fc96f>\u001b[0m in \u001b[0;36m<module>\u001b[0;34m()\u001b[0m\n\u001b[1;32m      3\u001b[0m \u001b[0md\u001b[0m \u001b[0;34m=\u001b[0m \u001b[0mc\u001b[0m\u001b[0;34m.\u001b[0m\u001b[0mreduceByKey\u001b[0m\u001b[0;34m(\u001b[0m\u001b[0;32mlambda\u001b[0m \u001b[0mx\u001b[0m\u001b[0;34m,\u001b[0m\u001b[0my\u001b[0m\u001b[0;34m:\u001b[0m \u001b[0mx\u001b[0m\u001b[0;34m+\u001b[0m\u001b[0my\u001b[0m\u001b[0;34m)\u001b[0m\u001b[0;34m\u001b[0m\u001b[0;34m\u001b[0m\u001b[0m\n\u001b[1;32m      4\u001b[0m \u001b[0mfin\u001b[0m \u001b[0;34m=\u001b[0m \u001b[0md\u001b[0m\u001b[0;34m.\u001b[0m\u001b[0msortBy\u001b[0m\u001b[0;34m(\u001b[0m\u001b[0;32mlambda\u001b[0m \u001b[0mx\u001b[0m\u001b[0;34m:\u001b[0m \u001b[0mx\u001b[0m\u001b[0;34m[\u001b[0m\u001b[0;36m1\u001b[0m\u001b[0;34m]\u001b[0m\u001b[0;34m,\u001b[0m \u001b[0;32mFalse\u001b[0m\u001b[0;34m)\u001b[0m\u001b[0;34m.\u001b[0m\u001b[0mcollect\u001b[0m\u001b[0;34m(\u001b[0m\u001b[0;34m)\u001b[0m\u001b[0;34m\u001b[0m\u001b[0;34m\u001b[0m\u001b[0m\n\u001b[0;32m----> 5\u001b[0;31m \u001b[0mfin\u001b[0m\u001b[0;34m.\u001b[0m\u001b[0mrepartition\u001b[0m\u001b[0;34m(\u001b[0m\u001b[0;36m1\u001b[0m\u001b[0;34m,\u001b[0m\u001b[0;36m1\u001b[0m\u001b[0;34m)\u001b[0m\u001b[0;34m.\u001b[0m\u001b[0msaveasTextFile\u001b[0m\u001b[0;34m(\u001b[0m\u001b[0;34m'salida4'\u001b[0m\u001b[0;34m)\u001b[0m\u001b[0;34m\u001b[0m\u001b[0;34m\u001b[0m\u001b[0m\n\u001b[0m",
            "\u001b[0;31mAttributeError\u001b[0m: 'list' object has no attribute 'repartition'"
          ]
        }
      ]
    },
    {
      "cell_type": "code",
      "metadata": {
        "colab": {
          "base_uri": "https://localhost:8080/"
        },
        "id": "VXlhcMrCaXfU",
        "outputId": "85b35e09-53ca-4613-90c7-d73f927f1a1e"
      },
      "source": [
        "b = fichero.map(lambda x: x.upper())\n",
        "print(b.take(5))"
      ],
      "execution_count": null,
      "outputs": [
        {
          "output_type": "stream",
          "name": "stdout",
          "text": [
            "['A', 'ABA', 'ABAÁ', 'ABABILLARSE', 'ABABOL']\n"
          ]
        }
      ]
    },
    {
      "cell_type": "code",
      "metadata": {
        "colab": {
          "base_uri": "https://localhost:8080/"
        },
        "id": "Uprq-TQsbNBa",
        "outputId": "93964ebc-25a3-4f66-cbef-00fcec1abaa3"
      },
      "source": [
        "c = fichero.flatMap(lambda x: x.upper())\n",
        "print(c.take(5))"
      ],
      "execution_count": null,
      "outputs": [
        {
          "output_type": "execute_result",
          "data": {
            "text/plain": [
              "['A', 'A', 'B', 'A', 'A']"
            ]
          },
          "metadata": {},
          "execution_count": 15
        }
      ]
    },
    {
      "cell_type": "markdown",
      "metadata": {
        "id": "VvJRVmN94vj0"
      },
      "source": [
        "SUGERENCIA: La siguiente celda muestra un truco para poder acceder al frontend de Apache Spark dentro de Google Colab."
      ]
    },
    {
      "cell_type": "code",
      "metadata": {
        "colab": {
          "base_uri": "https://localhost:8080/"
        },
        "id": "fkVKwMuZuaB4",
        "outputId": "b0f134e8-5615-4801-9665-a50d431439df"
      },
      "source": [
        "!wget -q https://bin.equinox.io/c/4VmDzA7iaHb/ngrok-stable-linux-amd64.zip\n",
        "!unzip ngrok-stable-linux-amd64.zip\n",
        "get_ipython().system_raw('./ngrok http 4050 &')\n",
        "!curl -s http://localhost:4040/api/tunnels"
      ],
      "execution_count": null,
      "outputs": [
        {
          "output_type": "stream",
          "text": [
            "Archive:  ngrok-stable-linux-amd64.zip\n",
            "  inflating: ngrok                   \n",
            "{\"tunnels\":[{\"name\":\"command_line (http)\",\"uri\":\"/api/tunnels/command_line%20%28http%29\",\"public_url\":\"http://204963a76e62.ngrok.io\",\"proto\":\"http\",\"config\":{\"addr\":\"http://localhost:4050\",\"inspect\":true},\"metrics\":{\"conns\":{\"count\":0,\"gauge\":0,\"rate1\":0,\"rate5\":0,\"rate15\":0,\"p50\":0,\"p90\":0,\"p95\":0,\"p99\":0},\"http\":{\"count\":0,\"rate1\":0,\"rate5\":0,\"rate15\":0,\"p50\":0,\"p90\":0,\"p95\":0,\"p99\":0}}},{\"name\":\"command_line\",\"uri\":\"/api/tunnels/command_line\",\"public_url\":\"https://204963a76e62.ngrok.io\",\"proto\":\"https\",\"config\":{\"addr\":\"http://localhost:4050\",\"inspect\":true},\"metrics\":{\"conns\":{\"count\":0,\"gauge\":0,\"rate1\":0,\"rate5\":0,\"rate15\":0,\"p50\":0,\"p90\":0,\"p95\":0,\"p99\":0},\"http\":{\"count\":0,\"rate1\":0,\"rate5\":0,\"rate15\":0,\"p50\":0,\"p90\":0,\"p95\":0,\"p99\":0}}}],\"uri\":\"/api/tunnels\"}\n"
          ],
          "name": "stdout"
        }
      ]
    },
    {
      "cell_type": "markdown",
      "metadata": {
        "id": "NWyqE9Md3yc0"
      },
      "source": [
        "Podemos obtener la memoria empleada dentro del Driver"
      ]
    },
    {
      "cell_type": "code",
      "metadata": {
        "colab": {
          "base_uri": "https://localhost:8080/"
        },
        "id": "X5YTbeyw_39w",
        "outputId": "03c2eca9-305d-43b6-9ee3-0bd8551f8743"
      },
      "source": [
        "from psutil import virtual_memory\n",
        "ram_gb = virtual_memory().total / 1e9\n",
        "print('Your runtime has {:.1f} gigabytes of available RAM\\n'.format(ram_gb))"
      ],
      "execution_count": null,
      "outputs": [
        {
          "output_type": "stream",
          "text": [
            "Your runtime has 13.7 gigabytes of available RAM\n",
            "\n"
          ],
          "name": "stdout"
        }
      ]
    },
    {
      "cell_type": "markdown",
      "metadata": {
        "id": "8jmRZiO733Su"
      },
      "source": [
        "Además, podemos conseguir el grado de paralelismo, es decir, el número de cores empleados."
      ]
    },
    {
      "cell_type": "code",
      "metadata": {
        "id": "i1J8-pT-j1Ha",
        "colab": {
          "base_uri": "https://localhost:8080/"
        },
        "outputId": "f0373d58-20a1-45cd-e434-5dd949d404ec"
      },
      "source": [
        "spark.sparkContext.defaultParallelism"
      ],
      "execution_count": null,
      "outputs": [
        {
          "output_type": "execute_result",
          "data": {
            "text/plain": [
              "2"
            ]
          },
          "metadata": {
            "tags": []
          },
          "execution_count": 8
        }
      ]
    },
    {
      "cell_type": "markdown",
      "metadata": {
        "id": "Q3B58xLV-M4k"
      },
      "source": [
        "#Primeros pasos"
      ]
    },
    {
      "cell_type": "markdown",
      "metadata": {
        "id": "TeL58iq5-QY3"
      },
      "source": [
        "Crear un RDD que multiplique por 2 sus valores y sumar los resultados."
      ]
    },
    {
      "cell_type": "code",
      "metadata": {
        "colab": {
          "base_uri": "https://localhost:8080/"
        },
        "id": "zxyRgNMe-YMF",
        "outputId": "53426e18-949b-43d8-ebd3-f833e3192de5"
      },
      "source": [
        "from operator import add\n",
        "rdd = sc.parallelize([1, 1, 1, 1, 2, 2, 2, 3, 3, 4])\n",
        "rdd2 = rdd.map(lambda x: x*2)\n",
        "tSum = rdd2.reduce(lambda x,y: x+y)\n",
        "print (tSum)"
      ],
      "execution_count": null,
      "outputs": [
        {
          "output_type": "stream",
          "text": [
            "40\n"
          ],
          "name": "stdout"
        }
      ]
    },
    {
      "cell_type": "markdown",
      "metadata": {
        "id": "Nf5L_65q-bYB"
      },
      "source": [
        "Crear un diccionario con elementos (x,1) y sumar las apariciones por elemento."
      ]
    },
    {
      "cell_type": "code",
      "metadata": {
        "id": "FMT7UYH--gXw"
      },
      "source": [
        "rdd_text = sc.parallelize(['red', 'red', 'blue', 'green', 'green','yellow'])\n",
        "rdd_aux = rdd_text.map(lambda x: (x,1))\n",
        "rdd_result = rdd_aux.reduceByKey(lambda x,y: x+y)\n",
        "print (rdd_result.collect())"
      ],
      "execution_count": null,
      "outputs": []
    },
    {
      "cell_type": "markdown",
      "metadata": {
        "id": "z-rrqm0F-p9l"
      },
      "source": [
        "Creación a partir de diccionarios."
      ]
    },
    {
      "cell_type": "code",
      "metadata": {
        "colab": {
          "base_uri": "https://localhost:8080/"
        },
        "id": "Muwx0GO6-uaV",
        "outputId": "73e30a71-e68b-4d94-ec17-8ddd25600672"
      },
      "source": [
        "a = sc.parallelize(['a','b','c','a'])\n",
        "b = sc.parallelize([1,2,3,4])\n",
        "rdd_kv = a.zip(b)\n",
        "print (rdd_kv.collect())"
      ],
      "execution_count": null,
      "outputs": [
        {
          "output_type": "stream",
          "text": [
            "[('a', 1), ('b', 2), ('c', 3), ('a', 4)]\n"
          ],
          "name": "stdout"
        }
      ]
    },
    {
      "cell_type": "markdown",
      "metadata": {
        "id": "bcvS7Pvw1rfX"
      },
      "source": [
        "#DataFrames\n",
        "\n",
        "Ahora, definamos nuestro primer DataFrame PySpark. El DataFrame en PySpark es como una hoja de cálculo que acomoda los datos. Si ya estás familiarizado con Pandas, puedes asumir con seguridad que el PySpark DataFrame es algo así como el Pandas DataFrame (pero con características más potentes). "
      ]
    },
    {
      "cell_type": "markdown",
      "metadata": {
        "id": "a9TBjsgG14dD"
      },
      "source": [
        "Leamos un conjunto de datos de un archivo de valores separados por comas (CSV). PySpark viene con un conveniente conjunto de funciones (también llamadas 'métodos' en Python) para leer y analizar algunos formatos comunes de archivos de datos, como spark.read.csv() o spark.read.json(). Una vez que se analiza el contenido del archivo, los valores se devuelven como PySpark DataFrame. El uso real tiene el siguiente aspecto."
      ]
    },
    {
      "cell_type": "code",
      "metadata": {
        "id": "iqjD6ybk12U2"
      },
      "source": [
        "!wget -q https://github.com/chadwickbureau/baseballdatabank/raw/master/core/People.csv\n",
        "df = spark.read.csv('People.csv', header=True, inferSchema=True)"
      ],
      "execution_count": null,
      "outputs": []
    },
    {
      "cell_type": "markdown",
      "metadata": {
        "id": "OKDZW-vr2Vc-"
      },
      "source": [
        "En la celda anterior, hemos descargado el conjunto de datos de las Grandes Ligas de Béisbol de la URL usando el comando \"wget\" (nota: es un comando de linux para descargar datos de la web), y lo hemos analizado en un DataFrame de PySpark llamado \"df\".\n",
        "\n",
        "Nótese que el argumento `header=True` se usa para indicar que la primera fila del archivo CSV contiene el nombre de las columnas (parámetros). Si lo estableces como `None`, que es el valor por defecto, PySpark sólo obtendrá algunos nombres de columna aleatorios y la primera fila del archivo CSV sólo se asumirá como parte de las entradas de datos."
      ]
    },
    {
      "cell_type": "markdown",
      "metadata": {
        "id": "-YM_s4xo2ksC"
      },
      "source": [
        "SUGERENCIA: Si deseas leer su propio archivo de datos en su disco local pero en Colab, aquí tiene una forma sencilla de hacerlo:\n",
        "```python\n",
        "from google.colab import files\n",
        "files.upload()\n",
        "```"
      ]
    },
    {
      "cell_type": "markdown",
      "metadata": {
        "id": "a__7NVJG2rXC"
      },
      "source": [
        "Para ver el contenido de un DataFrame, el método `DataFrame.show()` proporciona una forma sencilla de comprobar los datos en bruto.\n"
      ]
    },
    {
      "cell_type": "code",
      "metadata": {
        "id": "ooXCp6x62zqw"
      },
      "source": [
        "df.show()"
      ],
      "execution_count": null,
      "outputs": []
    },
    {
      "cell_type": "markdown",
      "metadata": {
        "id": "2-0GqPAm28eW"
      },
      "source": [
        "Otra forma de ver la estructura de los datos es imprimiendo, lo que se llama, Esquema. Mientras que los detalles se explicarán varias líneas más adelante, Esquema define el nombre de la columna, el tipo de variable y la nulidad de los datos. De nuevo, explicaré esos términos más tarde, pero por ahora, vamos a comprobar lo que ocurre cuando ejecutamos el método DataFrame.printSchema()."
      ]
    },
    {
      "cell_type": "code",
      "metadata": {
        "colab": {
          "base_uri": "https://localhost:8080/"
        },
        "id": "aaNEMnKp2-h0",
        "outputId": "62806ca3-e37f-4b5c-bc63-7b133347091b"
      },
      "source": [
        "df.printSchema()   # nullable --> sets missing data to null, when false, returns error"
      ],
      "execution_count": null,
      "outputs": [
        {
          "output_type": "stream",
          "text": [
            "root\n",
            " |-- playerID: string (nullable = true)\n",
            " |-- birthYear: integer (nullable = true)\n",
            " |-- birthMonth: integer (nullable = true)\n",
            " |-- birthDay: integer (nullable = true)\n",
            " |-- birthCountry: string (nullable = true)\n",
            " |-- birthState: string (nullable = true)\n",
            " |-- birthCity: string (nullable = true)\n",
            " |-- deathYear: integer (nullable = true)\n",
            " |-- deathMonth: integer (nullable = true)\n",
            " |-- deathDay: integer (nullable = true)\n",
            " |-- deathCountry: string (nullable = true)\n",
            " |-- deathState: string (nullable = true)\n",
            " |-- deathCity: string (nullable = true)\n",
            " |-- nameFirst: string (nullable = true)\n",
            " |-- nameLast: string (nullable = true)\n",
            " |-- nameGiven: string (nullable = true)\n",
            " |-- weight: integer (nullable = true)\n",
            " |-- height: integer (nullable = true)\n",
            " |-- bats: string (nullable = true)\n",
            " |-- throws: string (nullable = true)\n",
            " |-- debut: timestamp (nullable = true)\n",
            " |-- finalGame: timestamp (nullable = true)\n",
            " |-- retroID: string (nullable = true)\n",
            " |-- bbrefID: string (nullable = true)\n",
            "\n"
          ],
          "name": "stdout"
        }
      ]
    },
    {
      "cell_type": "markdown",
      "metadata": {
        "id": "abLWyOFm_vF_"
      },
      "source": [
        "###Mostrar columnas específicas"
      ]
    },
    {
      "cell_type": "markdown",
      "metadata": {
        "id": "vJ-zxyMo_7lq"
      },
      "source": [
        "A veces puede que quieras ver algunas columnas específicas del marco de datos. Para esos propósitos, puedes aprovechar las capacidades del SQL de Spark.\n",
        "\n",
        "Usando la función select() puedes mencionar cualquier columna que quieras ver"
      ]
    },
    {
      "cell_type": "code",
      "metadata": {
        "colab": {
          "base_uri": "https://localhost:8080/"
        },
        "id": "zeaqyBgr_6BR",
        "outputId": "b7c67ff4-b0bf-42a4-d480-7a8abf9773cb"
      },
      "source": [
        "df = spark.read.csv(\"/content/sample_data/california_housing_train.csv\", header=True, inferSchema=True)\n",
        "df.select(\"longitude\",\"latitude\",\"median_house_value\").show(5)"
      ],
      "execution_count": null,
      "outputs": [
        {
          "output_type": "stream",
          "text": [
            "+---------+--------+------------------+\n",
            "|longitude|latitude|median_house_value|\n",
            "+---------+--------+------------------+\n",
            "|  -114.31|   34.19|           66900.0|\n",
            "|  -114.47|    34.4|           80100.0|\n",
            "|  -114.56|   33.69|           85700.0|\n",
            "|  -114.57|   33.64|           73400.0|\n",
            "|  -114.57|   33.57|           65500.0|\n",
            "+---------+--------+------------------+\n",
            "only showing top 5 rows\n",
            "\n"
          ],
          "name": "stdout"
        }
      ]
    },
    {
      "cell_type": "markdown",
      "metadata": {
        "id": "jDo0xp9kA-Y1"
      },
      "source": [
        "###Describiendo las columnas\n",
        "A menudo, cuando trabajamos con características numéricas, queremos echar un vistazo a las estadísticas relativas al marco de datos. La función describe() es la más adecuada para tales propósitos.\n",
        "\n",
        "Es bastante similar a la función \"describe\" de Panda, pero los valores estadísticos son mucho menores y las columnas de cadenas también se describen."
      ]
    },
    {
      "cell_type": "code",
      "metadata": {
        "colab": {
          "base_uri": "https://localhost:8080/"
        },
        "id": "FegkN--_BMVd",
        "outputId": "6ff41caf-55b2-4261-fcdb-6f561bb4f21e"
      },
      "source": [
        "df.describe().show()"
      ],
      "execution_count": null,
      "outputs": [
        {
          "output_type": "stream",
          "text": [
            "+-------+-------------------+------------------+------------------+-----------------+-----------------+------------------+-----------------+------------------+------------------+\n",
            "|summary|          longitude|          latitude|housing_median_age|      total_rooms|   total_bedrooms|        population|       households|     median_income|median_house_value|\n",
            "+-------+-------------------+------------------+------------------+-----------------+-----------------+------------------+-----------------+------------------+------------------+\n",
            "|  count|              17000|             17000|             17000|            17000|            17000|             17000|            17000|             17000|             17000|\n",
            "|   mean|-119.56210823529375|  35.6252247058827| 28.58935294117647|2643.664411764706|539.4108235294118|1429.5739411764705|501.2219411764706| 3.883578100000021|207300.91235294117|\n",
            "| stddev| 2.0051664084260357|2.1373397946570867|12.586936981660406|2179.947071452777|421.4994515798648| 1147.852959159527|384.5208408559016|1.9081565183791036|115983.76438720895|\n",
            "|    min|            -124.35|             32.54|               1.0|              2.0|              1.0|               3.0|              1.0|            0.4999|           14999.0|\n",
            "|    max|            -114.31|             41.95|              52.0|          37937.0|           6445.0|           35682.0|           6082.0|           15.0001|          500001.0|\n",
            "+-------+-------------------+------------------+------------------+-----------------+-----------------+------------------+-----------------+------------------+------------------+\n",
            "\n"
          ],
          "name": "stdout"
        }
      ]
    },
    {
      "cell_type": "markdown",
      "metadata": {
        "id": "gp_EnA95FpQG"
      },
      "source": [
        "## Algunas operaciones básicas\n",
        "Ahora que entendemos la estructura básica de los Spark DataFrames, veamos algunas operaciones básicas que nos permiten interactuar con los datos."
      ]
    },
    {
      "cell_type": "code",
      "metadata": {
        "colab": {
          "base_uri": "https://localhost:8080/"
        },
        "id": "TVHCmsP0GC_A",
        "outputId": "587a960c-5314-4aec-c9e5-b15292f37d8c"
      },
      "source": [
        "!wget -q https://github.com/chadwickbureau/baseballdatabank/raw/master/core/Batting.csv\n",
        "df = spark.read.csv('Batting.csv', header=True, inferSchema=True)\n",
        "df.show()"
      ],
      "execution_count": null,
      "outputs": [
        {
          "output_type": "stream",
          "text": [
            "+---------+------+-----+------+----+---+---+---+---+---+---+---+---+---+---+---+---+----+----+----+----+----+\n",
            "| playerID|yearID|stint|teamID|lgID|  G| AB|  R|  H| 2B| 3B| HR|RBI| SB| CS| BB| SO| IBB| HBP|  SH|  SF|GIDP|\n",
            "+---------+------+-----+------+----+---+---+---+---+---+---+---+---+---+---+---+---+----+----+----+----+----+\n",
            "|abercda01|  1871|    1|   TRO|  NA|  1|  4|  0|  0|  0|  0|  0|  0|  0|  0|  0|  0|null|null|null|null|   0|\n",
            "| addybo01|  1871|    1|   RC1|  NA| 25|118| 30| 32|  6|  0|  0| 13|  8|  1|  4|  0|null|null|null|null|   0|\n",
            "|allisar01|  1871|    1|   CL1|  NA| 29|137| 28| 40|  4|  5|  0| 19|  3|  1|  2|  5|null|null|null|null|   1|\n",
            "|allisdo01|  1871|    1|   WS3|  NA| 27|133| 28| 44| 10|  2|  2| 27|  1|  1|  0|  2|null|null|null|null|   0|\n",
            "|ansonca01|  1871|    1|   RC1|  NA| 25|120| 29| 39| 11|  3|  0| 16|  6|  2|  2|  1|null|null|null|null|   0|\n",
            "|armstbo01|  1871|    1|   FW1|  NA| 12| 49|  9| 11|  2|  1|  0|  5|  0|  1|  0|  1|null|null|null|null|   0|\n",
            "|barkeal01|  1871|    1|   RC1|  NA|  1|  4|  0|  1|  0|  0|  0|  2|  0|  0|  1|  0|null|null|null|null|   0|\n",
            "|barnero01|  1871|    1|   BS1|  NA| 31|157| 66| 63| 10|  9|  0| 34| 11|  6| 13|  1|null|null|null|null|   1|\n",
            "|barrebi01|  1871|    1|   FW1|  NA|  1|  5|  1|  1|  1|  0|  0|  1|  0|  0|  0|  0|null|null|null|null|   0|\n",
            "|barrofr01|  1871|    1|   BS1|  NA| 18| 86| 13| 13|  2|  1|  0| 11|  1|  0|  0|  0|null|null|null|null|   0|\n",
            "| bassjo01|  1871|    1|   CL1|  NA| 22| 89| 18| 27|  1| 10|  3| 18|  0|  1|  3|  4|null|null|null|null|   0|\n",
            "|battijo01|  1871|    1|   CL1|  NA|  1|  3|  0|  0|  0|  0|  0|  0|  0|  0|  1|  0|null|null|null|null|   0|\n",
            "|bealsto01|  1871|    1|   WS3|  NA| 10| 36|  6|  7|  0|  0|  0|  1|  2|  0|  2|  0|null|null|null|null|   2|\n",
            "|beaveed01|  1871|    1|   TRO|  NA|  3| 15|  7|  6|  0|  0|  0|  5|  2|  0|  0|  0|null|null|null|null|   0|\n",
            "|bechtge01|  1871|    1|   PH1|  NA| 20| 94| 24| 33|  9|  1|  1| 21|  4|  0|  2|  2|null|null|null|null|   1|\n",
            "|bellast01|  1871|    1|   TRO|  NA| 29|128| 26| 32|  3|  3|  0| 23|  4|  4|  9|  2|null|null|null|null|   2|\n",
            "|berkena01|  1871|    1|   PH1|  NA|  1|  4|  0|  0|  0|  0|  0|  0|  0|  0|  0|  3|null|null|null|null|   0|\n",
            "|berryto01|  1871|    1|   PH1|  NA|  1|  4|  0|  1|  0|  0|  0|  0|  0|  0|  0|  0|null|null|null|null|   0|\n",
            "|berthha01|  1871|    1|   WS3|  NA| 17| 73| 17| 17|  1|  1|  0|  8|  3|  1|  4|  2|null|null|null|null|   0|\n",
            "|biermch01|  1871|    1|   FW1|  NA|  1|  2|  0|  0|  0|  0|  0|  0|  0|  0|  1|  0|null|null|null|null|   0|\n",
            "+---------+------+-----+------+----+---+---+---+---+---+---+---+---+---+---+---+---+----+----+----+----+----+\n",
            "only showing top 20 rows\n",
            "\n"
          ],
          "name": "stdout"
        }
      ]
    },
    {
      "cell_type": "markdown",
      "metadata": {
        "id": "m5iNbIIXGNI2"
      },
      "source": [
        "### Seleccionando Columnas"
      ]
    },
    {
      "cell_type": "markdown",
      "metadata": {
        "id": "OljXRHaAYu2v"
      },
      "source": [
        "A medida que analizas los datos, lo que harás a menudo es seleccionar unos cuantos subconjuntos de columnas de un conjunto de datos y procesarlos. En PySpark, la selección de una columna es tan simple como `df['nombre_de_columna']`."
      ]
    },
    {
      "cell_type": "markdown",
      "metadata": {
        "id": "-84p7NtcYsUt"
      },
      "source": [
        ""
      ]
    },
    {
      "cell_type": "code",
      "metadata": {
        "colab": {
          "base_uri": "https://localhost:8080/"
        },
        "id": "0SIQkp-CGQie",
        "outputId": "c9be55fd-06ad-49e8-eea5-2cd92a4073c8"
      },
      "source": [
        "df['playerID']"
      ],
      "execution_count": null,
      "outputs": [
        {
          "output_type": "execute_result",
          "data": {
            "text/plain": [
              "Column<b'playerID'>"
            ]
          },
          "metadata": {
            "tags": []
          },
          "execution_count": 42
        }
      ]
    },
    {
      "cell_type": "markdown",
      "metadata": {
        "id": "7QstJerKGRwh"
      },
      "source": [
        "Observe que la celda de arriba imprime un objeto de la columna de Spark. Para verlo de forma más explícita, puedes ejecutar `type()` function en Python para comprobar el tipo de datos."
      ]
    },
    {
      "cell_type": "code",
      "metadata": {
        "colab": {
          "base_uri": "https://localhost:8080/"
        },
        "id": "O2cDk61bGXcy",
        "outputId": "09a3c49a-07b7-4ff0-fbe0-7adced5ee832"
      },
      "source": [
        "type(df['playerID'])"
      ],
      "execution_count": null,
      "outputs": [
        {
          "output_type": "execute_result",
          "data": {
            "text/plain": [
              "pyspark.sql.column.Column"
            ]
          },
          "metadata": {
            "tags": []
          },
          "execution_count": 43
        }
      ]
    },
    {
      "cell_type": "markdown",
      "metadata": {
        "id": "6IPTkpNHGbEx"
      },
      "source": [
        "Una cosa importante a recordar aquí es que los objetos de la columna  **no** son lo mismo que los DataFrames. Por ejemplo, el método \"show()\" que estaba disponible para los DataFrames habituales **no funcionará** con un objeto de columna. Por lo tanto, se **supone que la siguiente celda devuelve un error de compilación**:"
      ]
    },
    {
      "cell_type": "code",
      "metadata": {
        "id": "r8XCjxf4GkJb"
      },
      "source": [
        "df['playerID'].show()"
      ],
      "execution_count": null,
      "outputs": []
    },
    {
      "cell_type": "markdown",
      "metadata": {
        "id": "876G3MrjGnAN"
      },
      "source": [
        "Entonces, ¿por qué la gente se molestó en crear un tipo de datos de columna? Bueno, como veremos más adelante, una razón es para utilizarlo como una referencia eficiente (algo así como un puntero) a una columna. Por ahora, sin embargo, debería ser suficiente para entender que los objetos de la columna no son DataFrames.\n",
        "\n",
        "¿Qué deberíamos hacer entonces, si queremos manejar las columnas como los habituales DataFrames? En otras palabras, ¿qué deberíamos hacer si queremos llamar al método `show()` para imprimir el contenido de una columna específica? Para este propósito, hay un método `select()` que se puede llamar desde un DataFrame. Véase el ejemplo siguiente."
      ]
    },
    {
      "cell_type": "code",
      "metadata": {
        "id": "K2U7GqMzGtxK"
      },
      "source": [
        "df.select('playerID')"
      ],
      "execution_count": null,
      "outputs": []
    },
    {
      "cell_type": "markdown",
      "metadata": {
        "id": "4QtTiYw1GwXS"
      },
      "source": [
        "Ahora el tipo es DataFrame. O más explícitamente:"
      ]
    },
    {
      "cell_type": "code",
      "metadata": {
        "colab": {
          "base_uri": "https://localhost:8080/"
        },
        "id": "lUfkfrWRGxgE",
        "outputId": "5146d54c-5c1c-47b8-83cf-6f028fe12f77"
      },
      "source": [
        "type(df.select('playerID'))"
      ],
      "execution_count": null,
      "outputs": [
        {
          "output_type": "execute_result",
          "data": {
            "text/plain": [
              "pyspark.sql.dataframe.DataFrame"
            ]
          },
          "metadata": {
            "tags": []
          },
          "execution_count": 44
        }
      ]
    },
    {
      "cell_type": "markdown",
      "metadata": {
        "id": "HV1YwCdHG0pq"
      },
      "source": [
        "Y por supuesto, ya que ahora la columna está seleccionada como un DataFrame, podemos llamar a cualquier método de DataFrame que queramos."
      ]
    },
    {
      "cell_type": "code",
      "metadata": {
        "id": "C8I1RBsTG3JR"
      },
      "source": [
        "df.select('playerID').show()"
      ],
      "execution_count": null,
      "outputs": []
    },
    {
      "cell_type": "markdown",
      "metadata": {
        "id": "o10RkP2IG5vk"
      },
      "source": [
        "La selección de columnas no tiene que ser una sola columna, sino que se pueden seleccionar varias columnas a la vez. En este caso, los nombres de las columnas a seleccionar pueden ser pasados como una lista Python. Por ejemplo:"
      ]
    },
    {
      "cell_type": "code",
      "metadata": {
        "colab": {
          "base_uri": "https://localhost:8080/"
        },
        "id": "nt9YdmBoG8ft",
        "outputId": "5d4d9153-8e8b-4a05-e47b-60966c142a57"
      },
      "source": [
        "df.select( ['playerID', 'yearID'] ).show()"
      ],
      "execution_count": null,
      "outputs": [
        {
          "output_type": "stream",
          "text": [
            "+---------+------+\n",
            "| playerID|yearID|\n",
            "+---------+------+\n",
            "|abercda01|  1871|\n",
            "| addybo01|  1871|\n",
            "|allisar01|  1871|\n",
            "|allisdo01|  1871|\n",
            "|ansonca01|  1871|\n",
            "|armstbo01|  1871|\n",
            "|barkeal01|  1871|\n",
            "|barnero01|  1871|\n",
            "|barrebi01|  1871|\n",
            "|barrofr01|  1871|\n",
            "| bassjo01|  1871|\n",
            "|battijo01|  1871|\n",
            "|bealsto01|  1871|\n",
            "|beaveed01|  1871|\n",
            "|bechtge01|  1871|\n",
            "|bellast01|  1871|\n",
            "|berkena01|  1871|\n",
            "|berryto01|  1871|\n",
            "|berthha01|  1871|\n",
            "|biermch01|  1871|\n",
            "+---------+------+\n",
            "only showing top 20 rows\n",
            "\n"
          ],
          "name": "stdout"
        }
      ]
    },
    {
      "cell_type": "markdown",
      "metadata": {
        "id": "sVwzNeG7HBPG"
      },
      "source": [
        "### Seleccionando filas\n"
      ]
    },
    {
      "cell_type": "markdown",
      "metadata": {
        "id": "t-i9FFwmYjja"
      },
      "source": [
        "Por mucho que necesites seleccionar columnas, también necesitarás seleccionar filas. Sin embargo, la selección de filas no es tan trivial como en las columnas. De hecho, si se piensa en ello, las filas son básicamente entradas de datos que son diferentes caso por caso, muestra por muestra. Además, cuando los datos son grandes, no estamos hablando de un número reducido de filas, sino de miles o millones de ellas (o incluso más).\n",
        "\n",
        "Por lo tanto, la selección de filas se realiza a menudo especificando algunas condiciones particulares. Por ejemplo, puede que quieras seleccionar las primeras 10 filas de tu DataFrame, que ya ha sido ordenado por algunas reglas. También puedes querer seleccionar filas que satisfagan una cierta condición. Es poco común (especialmente en grandes escenarios de datos) seleccionar filas usando índices, como lo que hemos hecho para las columnas.\n",
        "\n",
        "Dicho esto, aquí está nuestro ejemplo más simple de selección de algunas filas. Digamos que estás interesado en extraer las primeras 10 filas de un DataFrame. El método \"head()\" proporciona esa misma funcionalidad."
      ]
    },
    {
      "cell_type": "code",
      "metadata": {
        "colab": {
          "base_uri": "https://localhost:8080/"
        },
        "id": "Ifo7SKLPHHKH",
        "outputId": "0aef1036-f812-48ed-9497-969e1c2070fb"
      },
      "source": [
        "df.head(10)"
      ],
      "execution_count": null,
      "outputs": [
        {
          "output_type": "execute_result",
          "data": {
            "text/plain": [
              "[Row(playerID='abercda01', yearID=1871, stint=1, teamID='TRO', lgID='NA', G=1, AB=4, R=0, H=0, 2B=0, 3B=0, HR=0, RBI=0, SB=0, CS=0, BB=0, SO=0, IBB=None, HBP=None, SH=None, SF=None, GIDP=0),\n",
              " Row(playerID='addybo01', yearID=1871, stint=1, teamID='RC1', lgID='NA', G=25, AB=118, R=30, H=32, 2B=6, 3B=0, HR=0, RBI=13, SB=8, CS=1, BB=4, SO=0, IBB=None, HBP=None, SH=None, SF=None, GIDP=0),\n",
              " Row(playerID='allisar01', yearID=1871, stint=1, teamID='CL1', lgID='NA', G=29, AB=137, R=28, H=40, 2B=4, 3B=5, HR=0, RBI=19, SB=3, CS=1, BB=2, SO=5, IBB=None, HBP=None, SH=None, SF=None, GIDP=1),\n",
              " Row(playerID='allisdo01', yearID=1871, stint=1, teamID='WS3', lgID='NA', G=27, AB=133, R=28, H=44, 2B=10, 3B=2, HR=2, RBI=27, SB=1, CS=1, BB=0, SO=2, IBB=None, HBP=None, SH=None, SF=None, GIDP=0),\n",
              " Row(playerID='ansonca01', yearID=1871, stint=1, teamID='RC1', lgID='NA', G=25, AB=120, R=29, H=39, 2B=11, 3B=3, HR=0, RBI=16, SB=6, CS=2, BB=2, SO=1, IBB=None, HBP=None, SH=None, SF=None, GIDP=0),\n",
              " Row(playerID='armstbo01', yearID=1871, stint=1, teamID='FW1', lgID='NA', G=12, AB=49, R=9, H=11, 2B=2, 3B=1, HR=0, RBI=5, SB=0, CS=1, BB=0, SO=1, IBB=None, HBP=None, SH=None, SF=None, GIDP=0),\n",
              " Row(playerID='barkeal01', yearID=1871, stint=1, teamID='RC1', lgID='NA', G=1, AB=4, R=0, H=1, 2B=0, 3B=0, HR=0, RBI=2, SB=0, CS=0, BB=1, SO=0, IBB=None, HBP=None, SH=None, SF=None, GIDP=0),\n",
              " Row(playerID='barnero01', yearID=1871, stint=1, teamID='BS1', lgID='NA', G=31, AB=157, R=66, H=63, 2B=10, 3B=9, HR=0, RBI=34, SB=11, CS=6, BB=13, SO=1, IBB=None, HBP=None, SH=None, SF=None, GIDP=1),\n",
              " Row(playerID='barrebi01', yearID=1871, stint=1, teamID='FW1', lgID='NA', G=1, AB=5, R=1, H=1, 2B=1, 3B=0, HR=0, RBI=1, SB=0, CS=0, BB=0, SO=0, IBB=None, HBP=None, SH=None, SF=None, GIDP=0),\n",
              " Row(playerID='barrofr01', yearID=1871, stint=1, teamID='BS1', lgID='NA', G=18, AB=86, R=13, H=13, 2B=2, 3B=1, HR=0, RBI=11, SB=1, CS=0, BB=0, SO=0, IBB=None, HBP=None, SH=None, SF=None, GIDP=0)]"
            ]
          },
          "metadata": {
            "tags": []
          },
          "execution_count": 46
        }
      ]
    },
    {
      "cell_type": "markdown",
      "metadata": {
        "id": "5oWHcEZPHOAU"
      },
      "source": [
        "Fíjate que los elementos de la fila se devuelven como una lista de Python (¡mira el corchete!). Esto significa que puedes acceder a los elementos de la fila seleccionada como si estuvieras accediendo a un valor de una lista."
      ]
    },
    {
      "cell_type": "code",
      "metadata": {
        "colab": {
          "base_uri": "https://localhost:8080/"
        },
        "id": "tSilcaCRHSIi",
        "outputId": "d3f50f68-0c1a-4fd0-fbba-3a8a2a1dbca9"
      },
      "source": [
        "df.head(10)[0] # elemento cero"
      ],
      "execution_count": null,
      "outputs": [
        {
          "output_type": "execute_result",
          "data": {
            "text/plain": [
              "Row(playerID='abercda01', yearID=1871, stint=1, teamID='TRO', lgID='NA', G=1, AB=4, R=0, H=0, 2B=0, 3B=0, HR=0, RBI=0, SB=0, CS=0, BB=0, SO=0, IBB=None, HBP=None, SH=None, SF=None, GIDP=0)"
            ]
          },
          "metadata": {
            "tags": []
          },
          "execution_count": 47
        }
      ]
    },
    {
      "cell_type": "markdown",
      "metadata": {
        "id": "qLBlJPICHWVo"
      },
      "source": [
        "El tipo de datos de un elemento de fila es del tipo \"fila\", o más explícito, \"pyspark.sql.types.Row\". "
      ]
    },
    {
      "cell_type": "code",
      "metadata": {
        "colab": {
          "base_uri": "https://localhost:8080/"
        },
        "id": "tB_LMbEKHXv_",
        "outputId": "9a12a602-9e4a-4d91-9280-3daba0388a2b"
      },
      "source": [
        "type(df.head(10)[0])"
      ],
      "execution_count": null,
      "outputs": [
        {
          "output_type": "execute_result",
          "data": {
            "text/plain": [
              "pyspark.sql.types.Row"
            ]
          },
          "metadata": {
            "tags": []
          },
          "execution_count": 48
        }
      ]
    },
    {
      "cell_type": "markdown",
      "metadata": {
        "id": "9DRWkJpkNUck"
      },
      "source": [
        "###Añadiendo columnas"
      ]
    },
    {
      "cell_type": "markdown",
      "metadata": {
        "id": "Uyd29OndYWyw"
      },
      "source": [
        "Otro tipo de operación que puede ser bastante útil es añadir nuevas columnas. Por ejemplo, digamos que inventaste una nueva característica (o una métrica de béisbol) llamada \"tasa de éxito de robo de base (SBSR)\" definida como el número de bases robadas (SB) dividido por el número de robos atrapados (CS). (Por supuesto, hay, por ejemplo, muchos jugadores que nunca intentaron robar una sola base, así que no hay robos atrapados. Pero no nos pongamos demasiado serios con esta nueva métrica). Para esto, la siguiente línea puede ser bastante útil."
      ]
    },
    {
      "cell_type": "code",
      "metadata": {
        "colab": {
          "base_uri": "https://localhost:8080/"
        },
        "id": "2YkMnrAGNZ3k",
        "outputId": "28936b20-d7e2-40ed-c77f-c90ece0fbf0a"
      },
      "source": [
        "df.withColumn('SBSR', df['SB']/df['CS']).show()"
      ],
      "execution_count": null,
      "outputs": [
        {
          "output_type": "stream",
          "text": [
            "+---------+------+-----+------+----+---+---+---+---+---+---+---+---+---+---+---+---+----+----+----+----+----+------------------+\n",
            "| playerID|yearID|stint|teamID|lgID|  G| AB|  R|  H| 2B| 3B| HR|RBI| SB| CS| BB| SO| IBB| HBP|  SH|  SF|GIDP|              SBSR|\n",
            "+---------+------+-----+------+----+---+---+---+---+---+---+---+---+---+---+---+---+----+----+----+----+----+------------------+\n",
            "|abercda01|  1871|    1|   TRO|  NA|  1|  4|  0|  0|  0|  0|  0|  0|  0|  0|  0|  0|null|null|null|null|   0|              null|\n",
            "| addybo01|  1871|    1|   RC1|  NA| 25|118| 30| 32|  6|  0|  0| 13|  8|  1|  4|  0|null|null|null|null|   0|               8.0|\n",
            "|allisar01|  1871|    1|   CL1|  NA| 29|137| 28| 40|  4|  5|  0| 19|  3|  1|  2|  5|null|null|null|null|   1|               3.0|\n",
            "|allisdo01|  1871|    1|   WS3|  NA| 27|133| 28| 44| 10|  2|  2| 27|  1|  1|  0|  2|null|null|null|null|   0|               1.0|\n",
            "|ansonca01|  1871|    1|   RC1|  NA| 25|120| 29| 39| 11|  3|  0| 16|  6|  2|  2|  1|null|null|null|null|   0|               3.0|\n",
            "|armstbo01|  1871|    1|   FW1|  NA| 12| 49|  9| 11|  2|  1|  0|  5|  0|  1|  0|  1|null|null|null|null|   0|               0.0|\n",
            "|barkeal01|  1871|    1|   RC1|  NA|  1|  4|  0|  1|  0|  0|  0|  2|  0|  0|  1|  0|null|null|null|null|   0|              null|\n",
            "|barnero01|  1871|    1|   BS1|  NA| 31|157| 66| 63| 10|  9|  0| 34| 11|  6| 13|  1|null|null|null|null|   1|1.8333333333333333|\n",
            "|barrebi01|  1871|    1|   FW1|  NA|  1|  5|  1|  1|  1|  0|  0|  1|  0|  0|  0|  0|null|null|null|null|   0|              null|\n",
            "|barrofr01|  1871|    1|   BS1|  NA| 18| 86| 13| 13|  2|  1|  0| 11|  1|  0|  0|  0|null|null|null|null|   0|              null|\n",
            "| bassjo01|  1871|    1|   CL1|  NA| 22| 89| 18| 27|  1| 10|  3| 18|  0|  1|  3|  4|null|null|null|null|   0|               0.0|\n",
            "|battijo01|  1871|    1|   CL1|  NA|  1|  3|  0|  0|  0|  0|  0|  0|  0|  0|  1|  0|null|null|null|null|   0|              null|\n",
            "|bealsto01|  1871|    1|   WS3|  NA| 10| 36|  6|  7|  0|  0|  0|  1|  2|  0|  2|  0|null|null|null|null|   2|              null|\n",
            "|beaveed01|  1871|    1|   TRO|  NA|  3| 15|  7|  6|  0|  0|  0|  5|  2|  0|  0|  0|null|null|null|null|   0|              null|\n",
            "|bechtge01|  1871|    1|   PH1|  NA| 20| 94| 24| 33|  9|  1|  1| 21|  4|  0|  2|  2|null|null|null|null|   1|              null|\n",
            "|bellast01|  1871|    1|   TRO|  NA| 29|128| 26| 32|  3|  3|  0| 23|  4|  4|  9|  2|null|null|null|null|   2|               1.0|\n",
            "|berkena01|  1871|    1|   PH1|  NA|  1|  4|  0|  0|  0|  0|  0|  0|  0|  0|  0|  3|null|null|null|null|   0|              null|\n",
            "|berryto01|  1871|    1|   PH1|  NA|  1|  4|  0|  1|  0|  0|  0|  0|  0|  0|  0|  0|null|null|null|null|   0|              null|\n",
            "|berthha01|  1871|    1|   WS3|  NA| 17| 73| 17| 17|  1|  1|  0|  8|  3|  1|  4|  2|null|null|null|null|   0|               3.0|\n",
            "|biermch01|  1871|    1|   FW1|  NA|  1|  2|  0|  0|  0|  0|  0|  0|  0|  0|  1|  0|null|null|null|null|   0|              null|\n",
            "+---------+------+-----+------+----+---+---+---+---+---+---+---+---+---+---+---+---+----+----+----+----+----+------------------+\n",
            "only showing top 20 rows\n",
            "\n"
          ],
          "name": "stdout"
        }
      ]
    },
    {
      "cell_type": "markdown",
      "metadata": {
        "id": "f06DPyEPNrlN"
      },
      "source": [
        "En primer lugar, \"withColumn(<nombre de la columna>, <valor>)\" es un método para crear una nueva columna. La función `df.withColumn()` crea un nuevo DataFrame que tiene el mismo contenido que el DataFrame original `df`, pero con una columna añadida `<nombre de la columna>`. Note que no cambia el DataFrame original `df`.\n",
        "\n",
        "Para el valor, puedes pasar una referencia a una columna para ser añadida. Por supuesto, la columna debe tener el mismo número de filas para ser añadida al DataFrame existente. Una cosa interesante aquí es que las operaciones algebraicas se pueden realizar directamente en las columnas.\n",
        "\n",
        "df['SB'] + df['CS']\n",
        "\n",
        "df['SB'] * df['CS']\n",
        "\n",
        "df['SB'] / df['CS']\n",
        "\n",
        "En este punto, ya notarás que los objetos en columna tienen algo especial. Al principio de este tutorial de laboratorio, he enfatizado que los objetos en columna deben ser distinguidos de los DataFrames. También he mencionado que los objetos de la columna son una especie de punteros o referencias a la columna correspondiente en el DataFrame.\n",
        "\n",
        "Bueno, para ser más precisos, los objetos de columna son esencialmente contenedores para consultas. Por ejemplo, hace unas pocas líneas, vimos que una operación booleana como esta `(df['yearID'] >= 2015) & (df['HR'] > 20) & (df['SB'] > 20)` crea un objeto de columna como esta `Columna<b'((yearID >= 2015) AND (HR > 20)) Y (SB > 20))>`. Justo arriba, también vimos que las columnas se podían sumar, restar, multiplicar y dividir y el resultado era algo así como esta `Columna<b'(SB / CS)'>`.\n",
        "\n",
        "De hecho, lo que sucede aquí es que mientras ejecutamos operaciones aritméticas/booleanas en las columnas, PySpark almacena esas operaciones como una cadena de consulta en un objeto de la columna. En realidad no ejecuta operaciones numéricas reales en este punto. Así que nada es realmente añadido, multiplicado o comparado. En su lugar, en el momento en que el objeto de columna se pasa a un método DataFrame (por ejemplo, `donde()`, `conColumna()'), PySpark convierte la cadena de consulta en un código Spark optimizado internamente y ejecuta la consulta.\n",
        "\n",
        "Este es un importante principio de diseño de Spark que debes entender. La elección detrás de esto es en realidad bastante obvia. Obviamente no es una buena idea ejecutar cálculos cada vez que un usuario introduce un código, porque puede haber muchas entradas de datos en un gran problema de datos y los datos se distribuyen típicamente a través de múltiples DataNodes. En cambio, es más beneficioso recoger todas las consultas hasta el final, y ejecutarlas sólo una vez cuando el usuario solicite obtener resultados reales. Además, cuando esto sucede, Spark optimiza las consultas de manera compatible con el sistema de base de datos en el que se está ejecutando (en nuestro caso, Hadoop), que es una receta secreta detrás de la computación distribuida eficiente.\n",
        "\n",
        "Al entender cómo PySpark maneja las consultas, acabamos de abrir un cofre del tesoro con muchas herramientas. Una de ellas es un conjunto de funciones matemáticas que están predefinidas en PySpark. Estas funciones se pueden cargar importando el módulo \"pyspark.sql.functions\".\n",
        "\n",
        "import pyspark.sql.functions as F\n",
        "\n",
        "Con esto, se pueden definir fácilmente nuevas columnas con valores procesados a medida. Aunque no voy a enumerar aquí la lista completa y exhaustiva de funciones, el siguiente ejemplo le dará una idea de cómo se podrían utilizar esas funciones. (Para una lista completa de funciones, ver https://spark.apache.org/docs/latest/api/python/pyspark.sql.html#module-pyspark.sql.functions)"
      ]
    },
    {
      "cell_type": "code",
      "metadata": {
        "colab": {
          "base_uri": "https://localhost:8080/"
        },
        "id": "D-ob3pQjOIdv",
        "outputId": "1a7f7fcd-91bd-413a-be49-1db90b2a3cd6"
      },
      "source": [
        "import pyspark.sql.functions as F\n",
        "F.exp(df['SB']) + F.cos(df['SB'])\n",
        "df.withColumn('exp(HR) + cos(SB)', F.exp(df['SB']) + F.cos(df['SB'])).show()\n"
      ],
      "execution_count": null,
      "outputs": [
        {
          "output_type": "stream",
          "text": [
            "+---------+------+-----+------+----+---+---+---+---+---+---+---+---+---+---+---+---+----+----+----+----+----+------------------+\n",
            "| playerID|yearID|stint|teamID|lgID|  G| AB|  R|  H| 2B| 3B| HR|RBI| SB| CS| BB| SO| IBB| HBP|  SH|  SF|GIDP| exp(HR) + cos(SB)|\n",
            "+---------+------+-----+------+----+---+---+---+---+---+---+---+---+---+---+---+---+----+----+----+----+----+------------------+\n",
            "|abercda01|  1871|    1|   TRO|  NA|  1|  4|  0|  0|  0|  0|  0|  0|  0|  0|  0|  0|null|null|null|null|   0|               2.0|\n",
            "| addybo01|  1871|    1|   RC1|  NA| 25|118| 30| 32|  6|  0|  0| 13|  8|  1|  4|  0|null|null|null|null|   0|2980.8124870079196|\n",
            "|allisar01|  1871|    1|   CL1|  NA| 29|137| 28| 40|  4|  5|  0| 19|  3|  1|  2|  5|null|null|null|null|   1| 19.09554442658722|\n",
            "|allisdo01|  1871|    1|   WS3|  NA| 27|133| 28| 44| 10|  2|  2| 27|  1|  1|  0|  2|null|null|null|null|   0| 3.258584134327185|\n",
            "|ansonca01|  1871|    1|   RC1|  NA| 25|120| 29| 39| 11|  3|  0| 16|  6|  2|  2|  1|null|null|null|null|   0|404.38896377938545|\n",
            "|armstbo01|  1871|    1|   FW1|  NA| 12| 49|  9| 11|  2|  1|  0|  5|  0|  1|  0|  1|null|null|null|null|   0|               2.0|\n",
            "|barkeal01|  1871|    1|   RC1|  NA|  1|  4|  0|  1|  0|  0|  0|  2|  0|  0|  1|  0|null|null|null|null|   0|               2.0|\n",
            "|barnero01|  1871|    1|   BS1|  NA| 31|157| 66| 63| 10|  9|  0| 34| 11|  6| 13|  1|null|null|null|null|   1|59874.146140895806|\n",
            "|barrebi01|  1871|    1|   FW1|  NA|  1|  5|  1|  1|  1|  0|  0|  1|  0|  0|  0|  0|null|null|null|null|   0|               2.0|\n",
            "|barrofr01|  1871|    1|   BS1|  NA| 18| 86| 13| 13|  2|  1|  0| 11|  1|  0|  0|  0|null|null|null|null|   0| 3.258584134327185|\n",
            "| bassjo01|  1871|    1|   CL1|  NA| 22| 89| 18| 27|  1| 10|  3| 18|  0|  1|  3|  4|null|null|null|null|   0|               2.0|\n",
            "|battijo01|  1871|    1|   CL1|  NA|  1|  3|  0|  0|  0|  0|  0|  0|  0|  0|  1|  0|null|null|null|null|   0|               2.0|\n",
            "|bealsto01|  1871|    1|   WS3|  NA| 10| 36|  6|  7|  0|  0|  0|  1|  2|  0|  2|  0|null|null|null|null|   2| 6.972909262383508|\n",
            "|beaveed01|  1871|    1|   TRO|  NA|  3| 15|  7|  6|  0|  0|  0|  5|  2|  0|  0|  0|null|null|null|null|   0| 6.972909262383508|\n",
            "|bechtge01|  1871|    1|   PH1|  NA| 20| 94| 24| 33|  9|  1|  1| 21|  4|  0|  2|  2|null|null|null|null|   1|53.944506412280624|\n",
            "|bellast01|  1871|    1|   TRO|  NA| 29|128| 26| 32|  3|  3|  0| 23|  4|  4|  9|  2|null|null|null|null|   2|53.944506412280624|\n",
            "|berkena01|  1871|    1|   PH1|  NA|  1|  4|  0|  0|  0|  0|  0|  0|  0|  0|  0|  3|null|null|null|null|   0|               2.0|\n",
            "|berryto01|  1871|    1|   PH1|  NA|  1|  4|  0|  1|  0|  0|  0|  0|  0|  0|  0|  0|null|null|null|null|   0|               2.0|\n",
            "|berthha01|  1871|    1|   WS3|  NA| 17| 73| 17| 17|  1|  1|  0|  8|  3|  1|  4|  2|null|null|null|null|   0| 19.09554442658722|\n",
            "|biermch01|  1871|    1|   FW1|  NA|  1|  2|  0|  0|  0|  0|  0|  0|  0|  0|  1|  0|null|null|null|null|   0|               2.0|\n",
            "+---------+------+-----+------+----+---+---+---+---+---+---+---+---+---+---+---+---+----+----+----+----+----+------------------+\n",
            "only showing top 20 rows\n",
            "\n"
          ],
          "name": "stdout"
        }
      ]
    },
    {
      "cell_type": "markdown",
      "metadata": {
        "id": "5r9xZRPPY-p1"
      },
      "source": [
        "###Ordenación"
      ]
    },
    {
      "cell_type": "markdown",
      "metadata": {
        "id": "AOxVQqM3ZNJ0"
      },
      "source": [
        "Una vez que se aclare cómo funcionan las consultas en PySpark, el resto será fácil. Por ejemplo, una función de DataFrame que ordena las filas según un criterio de ordenación es `sort()`. Mientras tanto, una función de consulta para definir el orden ascendente/descendente es `asc()`/`desc()`. Con esto, podemos crear una lista de los 10 mejores bateadores de la MLB en los homeruns por temporada."
      ]
    },
    {
      "cell_type": "code",
      "metadata": {
        "id": "0yAw53lPZO0h"
      },
      "source": [
        "df.sort(df['hr'].desc()).limit(10).show()"
      ],
      "execution_count": null,
      "outputs": []
    },
    {
      "cell_type": "markdown",
      "metadata": {
        "id": "xqPS3PPHZRhp"
      },
      "source": [
        "También se puede especificar múltiples condiciones de clasificación. Por ejemplo, las dos últimas filas de la lista de los 10 primeros tiene dos jugadores con 59 homeruns (HR). Supongamos que queremos clasificarlos más por \"HR\", de bajo a alto (orden ascendente). Para esto, el código de abajo hará el trabajo."
      ]
    },
    {
      "cell_type": "code",
      "metadata": {
        "id": "4ZmX9tZ1ZXVm"
      },
      "source": [
        "df.sort(df['hr'].desc(), df['rbi'].asc()).limit(10).show()"
      ],
      "execution_count": null,
      "outputs": []
    },
    {
      "cell_type": "markdown",
      "metadata": {
        "id": "2Pu1OMDLZagd"
      },
      "source": [
        "Fíjate en que el orden ha sido cambiado ahora, de modo que cuando la \"HR\" es la misma, las entradas se ordenan en base al orden ascendente de la \"RBI\"."
      ]
    },
    {
      "cell_type": "markdown",
      "metadata": {
        "id": "iP7oPIQDaU17"
      },
      "source": [
        "###Uniendo los DataFrames"
      ]
    },
    {
      "cell_type": "markdown",
      "metadata": {
        "id": "6DKnymsQaWk0"
      },
      "source": [
        "Es bastante normal almacenar grandes datos en diferentes tablas. Por ejemplo, un centro comercial en línea puede tener tablas separadas de datos de clientes, datos de productos, datos de inventario, etc. En nuestro ejemplo de béisbol también hay múltiples archivos de bases de datos como datos de jugadores, datos de bateo, datos de lanzamiento, datos de salarios, etc. Por lo tanto, saber cómo recuperar la información de múltiples DataFrames es de importancia crítica.\n",
        "\n",
        "Para ver cómo se puede hacer esto en PySpark, leamos ahora dos archivos csv diferentes, \"Batting.csv\" y \"People.csv\". De hecho, ya hemos descargado estos dos archivos de los ejemplos anteriores, para poder acceder a ellos directamente."
      ]
    },
    {
      "cell_type": "code",
      "metadata": {
        "id": "hJa1ULLMaaK8"
      },
      "source": [
        "df_batting = spark.read.csv('Batting.csv', header=True, inferSchema=True)\n",
        "df_people = spark.read.csv('People.csv', header=True, inferSchema=True)"
      ],
      "execution_count": null,
      "outputs": []
    },
    {
      "cell_type": "markdown",
      "metadata": {
        "id": "4yfUC-ugahLW"
      },
      "source": [
        "Unir dos DataFrames es tan simple como \"fd1.join(df2)`.\n",
        "\n",
        "df_batting.join(df_people).show()\n"
      ]
    },
    {
      "cell_type": "markdown",
      "metadata": {
        "id": "U4_Hb8wSa_-7"
      },
      "source": [
        "Por supuesto, la función `join()` de PySpark no es tan inteligente, así que si intentas obtener el resultado real (recuerda que PySpark no ejecuta nada en realidad, sino que sólo acumula consultas, hasta que solicitas el resultado real), deberías ver un error:"
      ]
    },
    {
      "cell_type": "code",
      "metadata": {
        "id": "dkXEL-SZbJf0"
      },
      "source": [
        "df_batting.join(df_people).show()"
      ],
      "execution_count": null,
      "outputs": []
    },
    {
      "cell_type": "markdown",
      "metadata": {
        "id": "6uUabvWwbNMn"
      },
      "source": [
        "La razón por la que vemos el error anterior es porque la operación de unión es bastante ambigua. Por ejemplo, `df_batting` y `df_people` tienen diferente número de filas y diferentes entradas. Por lo tanto, no hay una forma trivial de unirlas.\n",
        "\n",
        "Para ello, necesitarás especificar valores clave para unir dos tablas. En nuestro caso, los `playerID`s son los que podemos usar para conectar las dos bases de datos."
      ]
    },
    {
      "cell_type": "code",
      "metadata": {
        "colab": {
          "base_uri": "https://localhost:8080/"
        },
        "id": "YgV9U7V6bWTr",
        "outputId": "f5699cb4-4cb0-4036-cb40-4e592a1886bd"
      },
      "source": [
        "df_batting.join(df_people, on=['playerID']).show()"
      ],
      "execution_count": null,
      "outputs": [
        {
          "output_type": "stream",
          "text": [
            "+---------+------+-----+------+----+---+---+---+---+---+---+---+---+---+---+---+---+----+----+----+----+----+---------+----------+--------+------------+----------+-------------+---------+----------+--------+------------+----------+-------------+---------+-----------+------------------+------+------+----+------+-------------------+-------------------+--------+---------+\n",
            "| playerID|yearID|stint|teamID|lgID|  G| AB|  R|  H| 2B| 3B| HR|RBI| SB| CS| BB| SO| IBB| HBP|  SH|  SF|GIDP|birthYear|birthMonth|birthDay|birthCountry|birthState|    birthCity|deathYear|deathMonth|deathDay|deathCountry|deathState|    deathCity|nameFirst|   nameLast|         nameGiven|weight|height|bats|throws|              debut|          finalGame| retroID|  bbrefID|\n",
            "+---------+------+-----+------+----+---+---+---+---+---+---+---+---+---+---+---+---+----+----+----+----+----+---------+----------+--------+------------+----------+-------------+---------+----------+--------+------------+----------+-------------+---------+-----------+------------------+------+------+----+------+-------------------+-------------------+--------+---------+\n",
            "|abercda01|  1871|    1|   TRO|  NA|  1|  4|  0|  0|  0|  0|  0|  0|  0|  0|  0|  0|null|null|null|null|   0|     1850|         1|       2|         USA|        OK|  Fort Towson|     1939|        11|      11|         USA|        PA| Philadelphia|    Frank|Abercrombie| Francis Patterson|  null|  null|null|  null|1871-10-21 00:00:00|1871-10-21 00:00:00|aberd101|abercda01|\n",
            "| addybo01|  1871|    1|   RC1|  NA| 25|118| 30| 32|  6|  0|  0| 13|  8|  1|  4|  0|null|null|null|null|   0|     1842|         2|    null|         CAN|        ON|    Port Hope|     1910|         4|       9|         USA|        ID|    Pocatello|      Bob|       Addy|     Robert Edward|   160|    68|   L|     L|1871-05-06 00:00:00|1877-10-06 00:00:00|addyb101| addybo01|\n",
            "|allisar01|  1871|    1|   CL1|  NA| 29|137| 28| 40|  4|  5|  0| 19|  3|  1|  2|  5|null|null|null|null|   1|     1849|         1|      29|         USA|        PA| Philadelphia|     1916|         2|      25|         USA|        DC|   Washington|      Art|    Allison|   Arthur Algernon|   150|    68|null|  null|1871-05-04 00:00:00|1876-10-05 00:00:00|allia101|allisar01|\n",
            "|allisdo01|  1871|    1|   WS3|  NA| 27|133| 28| 44| 10|  2|  2| 27|  1|  1|  0|  2|null|null|null|null|   0|     1846|         7|      12|         USA|        PA| Philadelphia|     1916|        12|      19|         USA|        DC|   Washington|     Doug|    Allison|        Douglas L.|   160|    70|   R|     R|1871-05-05 00:00:00|1883-07-13 00:00:00|allid101|allisdo01|\n",
            "|ansonca01|  1871|    1|   RC1|  NA| 25|120| 29| 39| 11|  3|  0| 16|  6|  2|  2|  1|null|null|null|null|   0|     1852|         4|      17|         USA|        IA| Marshalltown|     1922|         4|      14|         USA|        IL|      Chicago|      Cap|      Anson|Adrian Constantine|   227|    72|   R|     R|1871-05-06 00:00:00|1897-10-03 00:00:00|ansoc101|ansonca01|\n",
            "|armstbo01|  1871|    1|   FW1|  NA| 12| 49|  9| 11|  2|  1|  0|  5|  0|  1|  0|  1|null|null|null|null|   0|     1850|         7|       4|         USA|        MD|    Baltimore|     1917|        12|       3|         USA|        TX|   Fort Worth|   Robert|  Armstrong| Robert Livingston|   160|    74|null|  null|1871-06-26 00:00:00|1871-08-29 00:00:00|armsr101|armstsa01|\n",
            "|barkeal01|  1871|    1|   RC1|  NA|  1|  4|  0|  1|  0|  0|  0|  2|  0|  0|  1|  0|null|null|null|null|   0|     1839|         1|      18|         USA|        IN|   Lost Creek|     1912|         9|      15|         USA|        IL|     Rockford|       Al|     Barker|         Alfred L.|   162|    72|null|  null|1871-06-01 00:00:00|1871-06-01 00:00:00|barka101|barkeal01|\n",
            "|barnero01|  1871|    1|   BS1|  NA| 31|157| 66| 63| 10|  9|  0| 34| 11|  6| 13|  1|null|null|null|null|   1|     1850|         5|       8|         USA|        NY| Mount Morris|     1915|         2|       5|         USA|        IL|      Chicago|     Ross|     Barnes|    Charles Roscoe|   145|    68|   R|     R|1871-05-05 00:00:00|1881-09-21 00:00:00|barnr102|barnero01|\n",
            "|barrebi01|  1871|    1|   FW1|  NA|  1|  5|  1|  1|  1|  0|  0|  1|  0|  0|  0|  0|null|null|null|null|   0|     null|      null|    null|         USA|        MD|    Baltimore|     null|      null|    null|        null|      null|         null|     Bill|    Barrett|           William|  null|  null|null|  null|1871-07-08 00:00:00|1873-10-18 00:00:00|barrb102|barrebi01|\n",
            "|barrofr01|  1871|    1|   BS1|  NA| 18| 86| 13| 13|  2|  1|  0| 11|  1|  0|  0|  0|null|null|null|null|   0|     1844|        10|      22|         USA|        OH|       Hudson|     1922|         2|       6|         USA|        MA|    Fitchburg|    Frank|    Barrows|      Franklin Lee|  null|  null|null|  null|1871-05-20 00:00:00|1871-10-07 00:00:00|barrf102|barrofr01|\n",
            "| bassjo01|  1871|    1|   CL1|  NA| 22| 89| 18| 27|  1| 10|  3| 18|  0|  1|  3|  4|null|null|null|null|   0|     1848|      null|    null|         USA|        MD|   Charleston|     1888|         9|      25|         USA|        CO|       Denver|     John|       Bass|        John Elias|   150|    66|null|  null|1871-05-04 00:00:00|1877-08-20 00:00:00|bassj101| bassjo01|\n",
            "|battijo01|  1871|    1|   CL1|  NA|  1|  3|  0|  0|  0|  0|  0|  0|  0|  0|  1|  0|null|null|null|null|   0|     1853|        11|      11|         USA|        PA|West Bradford|     1937|        12|      10|         USA|        OH|        Akron|      Joe|     Battin|         Joseph V.|   169|    70|   R|     R|1871-08-11 00:00:00|1890-05-28 00:00:00|battj102|battijo01|\n",
            "|bealsto01|  1871|    1|   WS3|  NA| 10| 36|  6|  7|  0|  0|  0|  1|  2|  0|  2|  0|null|null|null|null|   2|     1850|         8|    null|         USA|        NY|     New York|     1915|        10|       2|         USA|        CA|San Francisco|    Tommy|      Beals|       Thomas Lamb|   144|    65|   R|  null|1871-07-27 00:00:00|1880-09-29 00:00:00|bealt101|bealsto01|\n",
            "|beaveed01|  1871|    1|   TRO|  NA|  3| 15|  7|  6|  0|  0|  0|  5|  2|  0|  0|  0|null|null|null|null|   0|     1848|      null|    null|         USA|        NY|         Troy|     null|      null|    null|        null|      null|         null|   Edward|    Beavens|         Edward P.|   138|    68|null|  null|1871-05-09 00:00:00|1872-08-22 00:00:00|beave101|beavee.01|\n",
            "|bechtge01|  1871|    1|   PH1|  NA| 20| 94| 24| 33|  9|  1|  1| 21|  4|  0|  2|  2|null|null|null|null|   1|     1848|         9|       2|         USA|        PA| Philadelphia|     1921|         4|       3|         USA|        PA| Philadelphia|   George|    Bechtel|         George W.|   165|    71|null|  null|1871-05-20 00:00:00|1876-08-19 00:00:00|bechg101|bechtge01|\n",
            "|bellast01|  1871|    1|   TRO|  NA| 29|128| 26| 32|  3|  3|  0| 23|  4|  4|  9|  2|null|null|null|null|   2|     1849|        10|       1|        Cuba| La Habana|    La Habana|     1932|         8|       8|        Cuba| La Habana|    La Habana|    Steve|     Bellan|        Stephen B.|   154|    68|null|  null|1871-05-09 00:00:00|1873-06-09 00:00:00|bells101|bellast01|\n",
            "|berkena01|  1871|    1|   PH1|  NA|  1|  4|  0|  0|  0|  0|  0|  0|  0|  0|  0|  3|null|null|null|null|   0|     1832|         9|      17|         USA|        PA| Philadelphia|     1900|         2|      23|         USA|        PA| Philadelphia|     Nate|Berkenstock|            Nathan|  null|  null|null|  null|1871-10-30 00:00:00|1871-10-30 00:00:00|berkn101|berkena01|\n",
            "|berryto01|  1871|    1|   PH1|  NA|  1|  4|  0|  1|  0|  0|  0|  0|  0|  0|  0|  0|null|null|null|null|   0|     1842|        12|      31|         USA|        PA|      Chester|     1915|         6|       6|         USA|        PA|      Chester|      Tom|      Berry|      Thomas Haney|   140|    66|null|  null|1871-09-02 00:00:00|1871-09-02 00:00:00|berrt101|berryto01|\n",
            "|berthha01|  1871|    1|   WS3|  NA| 17| 73| 17| 17|  1|  1|  0|  8|  3|  1|  4|  2|null|null|null|null|   0|     1844|         1|       1|         USA|        NY|      Mumford|     1928|         4|      24|         USA|        MA|      Chelsea|    Harry|  Berthrong|    Henry Washburn|   140|    66|null|  null|1871-05-05 00:00:00|1871-07-04 00:00:00|berth101|berthha01|\n",
            "|biermch01|  1871|    1|   FW1|  NA|  1|  2|  0|  0|  0|  0|  0|  0|  0|  0|  1|  0|null|null|null|null|   0|     1845|      null|    null|         USA|        NJ|      Hoboken|     1879|         8|       4|         USA|        NJ|      Hoboken|  Charles|    Bierman|        Charles S.|   180|    72|null|  null|1871-06-21 00:00:00|1871-06-21 00:00:00|bierc101|biermch01|\n",
            "+---------+------+-----+------+----+---+---+---+---+---+---+---+---+---+---+---+---+----+----+----+----+----+---------+----------+--------+------------+----------+-------------+---------+----------+--------+------------+----------+-------------+---------+-----------+------------------+------+------+----+------+-------------------+-------------------+--------+---------+\n",
            "only showing top 20 rows\n",
            "\n"
          ],
          "name": "stdout"
        }
      ]
    },
    {
      "cell_type": "markdown",
      "metadata": {
        "id": "F2FQKpNNZh1n"
      },
      "source": [
        "###Agregación"
      ]
    },
    {
      "cell_type": "markdown",
      "metadata": {
        "id": "qzNJEnKgZnW8"
      },
      "source": [
        "Ahora el último tema para este tutorial de laboratorio es la agregación de datos. Por ejemplo, las estadísticas de bateo que tenemos se basan en cada temporada. En otras palabras, el mismo jugador puede tener varias filas de su récord si jugó más de una temporada. Ahora supongamos que estamos interesados en los registros de carreras de homeruns (es decir, cuántos homeruns ha bateado un jugador a lo largo de toda su carrera), en lugar de los registros de temporada. Para ello, necesitamos ser capaces de agregar todas las filas correspondientes a cada jugador sumándolas."
      ]
    },
    {
      "cell_type": "markdown",
      "metadata": {
        "id": "qBEUWHj9Zs66"
      },
      "source": [
        "Hasta ahora, hemos aprendido a ordenar los valores en un DataFrame"
      ]
    },
    {
      "cell_type": "code",
      "metadata": {
        "colab": {
          "base_uri": "https://localhost:8080/"
        },
        "id": "8SNTKmZLZttW",
        "outputId": "affeaa37-c2f8-432a-bbd4-49b344dcc711"
      },
      "source": [
        "df_batting.sort(df_batting['hr'].desc()).limit(10).show()"
      ],
      "execution_count": null,
      "outputs": [
        {
          "output_type": "stream",
          "text": [
            "+---------+------+-----+------+----+---+---+---+---+---+---+---+---+---+---+---+---+----+---+---+----+----+\n",
            "| playerID|yearID|stint|teamID|lgID|  G| AB|  R|  H| 2B| 3B| HR|RBI| SB| CS| BB| SO| IBB|HBP| SH|  SF|GIDP|\n",
            "+---------+------+-----+------+----+---+---+---+---+---+---+---+---+---+---+---+---+----+---+---+----+----+\n",
            "|bondsba01|  2001|    1|   SFN|  NL|153|476|129|156| 32|  2| 73|137| 13|  3|177| 93|  35|  9|  0|   2|   5|\n",
            "|mcgwima01|  1998|    1|   SLN|  NL|155|509|130|152| 21|  0| 70|147|  1|  0|162|155|  28|  6|  0|   4|   8|\n",
            "| sosasa01|  1998|    1|   CHN|  NL|159|643|134|198| 20|  0| 66|158| 18|  9| 73|171|  14|  1|  0|   5|  20|\n",
            "|mcgwima01|  1999|    1|   SLN|  NL|153|521|118|145| 21|  1| 65|147|  0|  0|133|141|  21|  2|  0|   5|  12|\n",
            "| sosasa01|  2001|    1|   CHN|  NL|160|577|146|189| 34|  5| 64|160|  0|  2|116|153|  37|  6|  0|  12|   6|\n",
            "| sosasa01|  1999|    1|   CHN|  NL|162|625|114|180| 24|  2| 63|141|  7|  8| 78|171|   8|  3|  0|   6|  17|\n",
            "|marisro01|  1961|    1|   NYA|  AL|161|590|132|159| 16|  4| 61|142|  0|  0| 94| 67|   0|  7|  0|   7|  16|\n",
            "| ruthba01|  1927|    1|   NYA|  AL|151|540|158|192| 29|  8| 60|164|  7|  6|137| 89|null|  0| 14|null|null|\n",
            "| ruthba01|  1921|    1|   NYA|  AL|152|540|177|204| 44| 16| 59|171| 17| 13|145| 81|null|  4|  4|null|null|\n",
            "|stantmi03|  2017|    1|   MIA|  NL|159|597|123|168| 32|  0| 59|132|  2|  2| 85|163|  13|  7|  0|   3|  13|\n",
            "+---------+------+-----+------+----+---+---+---+---+---+---+---+---+---+---+---+---+----+---+---+----+----+\n",
            "\n"
          ],
          "name": "stdout"
        }
      ]
    },
    {
      "cell_type": "markdown",
      "metadata": {
        "id": "wBY5InZiZ3X9"
      },
      "source": [
        "Para ello, vamos a las primeras filas del grupo por \"playerID\"."
      ]
    },
    {
      "cell_type": "code",
      "metadata": {
        "colab": {
          "base_uri": "https://localhost:8080/"
        },
        "id": "CX5-MHTaZ4TX",
        "outputId": "b0d4565b-e298-4a2b-9282-389a4f33f065"
      },
      "source": [
        "df_batting.groupby('playerid')"
      ],
      "execution_count": null,
      "outputs": [
        {
          "output_type": "execute_result",
          "data": {
            "text/plain": [
              "<pyspark.sql.group.GroupedData at 0x7f4ebabcada0>"
            ]
          },
          "metadata": {
            "tags": []
          },
          "execution_count": 58
        }
      ]
    },
    {
      "cell_type": "markdown",
      "metadata": {
        "id": "TreLkpYzZ7ZS"
      },
      "source": [
        "Esto crea un DataFrame agrupado donde las filas están listas para ser agregadas por el \"playerID\". Ya que queremos el total de homeruns de la carrera, el método de agregación de nuestra elección es \"suma\"."
      ]
    },
    {
      "cell_type": "markdown",
      "metadata": {
        "id": "ZwUYoCypZ_cv"
      },
      "source": [
        "Como se puede observar en lo anterior, el método `sum()` crea un nuevo DataFrame compuesto por valores de columnas agregadas. Hay otros métodos de agregación como `avg()`, `max()`, `min()`, etc., cuyas funciones son bastante auto-explicativas. (Para una lista exhaustiva, véase https://spark.apache.org/docs/latest/api/python/pyspark.sql.html#pyspark.sql.GroupedData)\n",
        "\n",
        "Ahora unamos este DataFrame agregado con `df_people` para poder ver los nombres de los jugadores en el lateral."
      ]
    },
    {
      "cell_type": "code",
      "metadata": {
        "id": "-dNvPIhgaER9"
      },
      "source": [
        "df_homerun = df_career.select(['playerid', 'sum(hr)']).join(df_people.select(['playerid', 'namefirst', 'namelast']), on=['playerid'])\n",
        "df_homerun.show()"
      ],
      "execution_count": null,
      "outputs": []
    },
    {
      "cell_type": "markdown",
      "metadata": {
        "id": "AQJ_-ZQsaHHh"
      },
      "source": [
        "Por último, podemos ordenar el nuevo DataFram (`df_homerun`) en un orden ascendente de `suma (HR)` para generar un ranking de los 10 mejores homeruns de carrera."
      ]
    },
    {
      "cell_type": "code",
      "metadata": {
        "id": "nhL_1_EqaMed"
      },
      "source": [
        "df_homerun.sort(df_homerun['suma(hr)'].desc()).limit(10).show()"
      ],
      "execution_count": null,
      "outputs": []
    },
    {
      "cell_type": "markdown",
      "metadata": {
        "id": "edTA6zST3Wr0"
      },
      "source": [
        "## SQL"
      ]
    },
    {
      "cell_type": "markdown",
      "metadata": {
        "id": "BrpWT585YcHN"
      },
      "source": [
        "Si ya estás familiarizado con SQL, Spark te permite crear consultas usando el SQL. Si bien esto está fuera del alcance de esta clase, creo que puede ser útil para algunos de ustedes y por lo tanto proporcionar un ejemplo a continuación."
      ]
    },
    {
      "cell_type": "code",
      "metadata": {
        "id": "sYQme0fD3a9B"
      },
      "source": [
        "df_people = spark.read.csv('People.csv', header=True, inferSchema=True)\n",
        "df_people.createOrReplaceTempView('people')"
      ],
      "execution_count": null,
      "outputs": []
    },
    {
      "cell_type": "code",
      "metadata": {
        "id": "IZGxPu3z3dj_"
      },
      "source": [
        "results = spark.sql(\"SELECT * FROM people\")"
      ],
      "execution_count": null,
      "outputs": []
    },
    {
      "cell_type": "code",
      "metadata": {
        "colab": {
          "base_uri": "https://localhost:8080/"
        },
        "id": "mWuINQ7C3fuJ",
        "outputId": "d7221fb6-4f99-431d-c893-013f986cb99e"
      },
      "source": [
        "results.show()"
      ],
      "execution_count": null,
      "outputs": [
        {
          "output_type": "stream",
          "text": [
            "+---------+---------+----------+--------+------------+----------+------------+---------+----------+--------+------------+----------+----------------+---------+-----------+----------------+------+------+----+------+-------------------+-------------------+--------+---------+\n",
            "| playerID|birthYear|birthMonth|birthDay|birthCountry|birthState|   birthCity|deathYear|deathMonth|deathDay|deathCountry|deathState|       deathCity|nameFirst|   nameLast|       nameGiven|weight|height|bats|throws|              debut|          finalGame| retroID|  bbrefID|\n",
            "+---------+---------+----------+--------+------------+----------+------------+---------+----------+--------+------------+----------+----------------+---------+-----------+----------------+------+------+----+------+-------------------+-------------------+--------+---------+\n",
            "|aardsda01|     1981|        12|      27|         USA|        CO|      Denver|     null|      null|    null|        null|      null|            null|    David|    Aardsma|     David Allan|   215|    75|   R|     R|2004-04-06 00:00:00|2015-08-23 00:00:00|aardd001|aardsda01|\n",
            "|aaronha01|     1934|         2|       5|         USA|        AL|      Mobile|     null|      null|    null|        null|      null|            null|     Hank|      Aaron|     Henry Louis|   180|    72|   R|     R|1954-04-13 00:00:00|1976-10-03 00:00:00|aaroh101|aaronha01|\n",
            "|aaronto01|     1939|         8|       5|         USA|        AL|      Mobile|     1984|         8|      16|         USA|        GA|         Atlanta|   Tommie|      Aaron|      Tommie Lee|   190|    75|   R|     R|1962-04-10 00:00:00|1971-09-26 00:00:00|aarot101|aaronto01|\n",
            "| aasedo01|     1954|         9|       8|         USA|        CA|      Orange|     null|      null|    null|        null|      null|            null|      Don|       Aase|  Donald William|   190|    75|   R|     R|1977-07-26 00:00:00|1990-10-03 00:00:00|aased001| aasedo01|\n",
            "| abadan01|     1972|         8|      25|         USA|        FL|  Palm Beach|     null|      null|    null|        null|      null|            null|     Andy|       Abad|   Fausto Andres|   184|    73|   L|     L|2001-09-10 00:00:00|2006-04-13 00:00:00|abada001| abadan01|\n",
            "| abadfe01|     1985|        12|      17|        D.R.| La Romana|   La Romana|     null|      null|    null|        null|      null|            null| Fernando|       Abad|Fernando Antonio|   235|    74|   L|     L|2010-07-28 00:00:00|2019-09-28 00:00:00|abadf001| abadfe01|\n",
            "|abadijo01|     1850|        11|       4|         USA|        PA|Philadelphia|     1905|         5|      17|         USA|        NJ|       Pemberton|     John|     Abadie|         John W.|   192|    72|   R|     R|1875-04-26 00:00:00|1875-06-10 00:00:00|abadj101|abadijo01|\n",
            "|abbated01|     1877|         4|      15|         USA|        PA|     Latrobe|     1957|         1|       6|         USA|        FL| Fort Lauderdale|       Ed|Abbaticchio|    Edward James|   170|    71|   R|     R|1897-09-04 00:00:00|1910-09-15 00:00:00|abbae101|abbated01|\n",
            "|abbeybe01|     1869|        11|      11|         USA|        VT|       Essex|     1962|         6|      11|         USA|        VT|      Colchester|     Bert|      Abbey|       Bert Wood|   175|    71|   R|     R|1892-06-14 00:00:00|1896-09-23 00:00:00|abbeb101|abbeybe01|\n",
            "|abbeych01|     1866|        10|      14|         USA|        NE|  Falls City|     1926|         4|      27|         USA|        CA|   San Francisco|  Charlie|      Abbey|      Charles S.|   169|    68|   L|     L|1893-08-16 00:00:00|1897-08-19 00:00:00|abbec101|abbeych01|\n",
            "|abbotda01|     1862|         3|      16|         USA|        OH|     Portage|     1930|         2|      13|         USA|        MI|     Ottawa Lake|      Dan|     Abbott|Leander Franklin|   190|    71|   R|     R|1890-04-19 00:00:00|1890-05-23 00:00:00|abbod101|abbotda01|\n",
            "|abbotfr01|     1874|        10|      22|         USA|        OH|  Versailles|     1935|         6|      11|         USA|        CA|     Los Angeles|     Fred|     Abbott| Harry Frederick|   180|    70|   R|     R|1903-04-25 00:00:00|1905-09-20 00:00:00|abbof101|abbotfr01|\n",
            "|abbotgl01|     1951|         2|      16|         USA|        AR| Little Rock|     null|      null|    null|        null|      null|            null|    Glenn|     Abbott|   William Glenn|   200|    78|   R|     R|1973-07-29 00:00:00|1984-08-08 00:00:00|abbog001|abbotgl01|\n",
            "|abbotje01|     1972|         8|      17|         USA|        GA|     Atlanta|     null|      null|    null|        null|      null|            null|     Jeff|     Abbott| Jeffrey William|   190|    74|   R|     L|1997-06-10 00:00:00|2001-09-29 00:00:00|abboj002|abbotje01|\n",
            "|abbotji01|     1967|         9|      19|         USA|        MI|       Flint|     null|      null|    null|        null|      null|            null|      Jim|     Abbott|   James Anthony|   200|    75|   L|     L|1989-04-08 00:00:00|1999-07-21 00:00:00|abboj001|abbotji01|\n",
            "|abbotku01|     1969|         6|       2|         USA|        OH|  Zanesville|     null|      null|    null|        null|      null|            null|     Kurt|     Abbott|     Kurt Thomas|   180|    71|   R|     R|1993-09-07 00:00:00|2001-04-13 00:00:00|abbok002|abbotku01|\n",
            "|abbotky01|     1968|         2|      18|         USA|        MA| Newburyport|     null|      null|    null|        null|      null|            null|     Kyle|     Abbott|   Lawrence Kyle|   200|    76|   L|     L|1991-09-10 00:00:00|1996-08-24 00:00:00|abbok001|abbotky01|\n",
            "|abbotod01|     1886|         9|       5|         USA|        PA|   New Eagle|     1933|         4|      13|         USA|        DC|      Washington|      Ody|     Abbott|       Ody Cleon|   165|    69|   L|     R|1910-09-10 00:00:00|1910-10-15 00:00:00|abboo101|abbotod01|\n",
            "|abbotpa01|     1967|         9|      15|         USA|        CA|    Van Nuys|     null|      null|    null|        null|      null|            null|     Paul|     Abbott|      Paul David|   185|    75|   R|     R|1990-08-21 00:00:00|2004-08-07 00:00:00|abbop001|abbotpa01|\n",
            "| aberal01|     1927|         7|      31|         USA|        OH|   Cleveland|     1993|         5|      20|         USA|        OH|Garfield Heights|       Al|       Aber|   Albert Julius|   195|    74|   L|     L|1950-09-15 00:00:00|1957-09-11 00:00:00|abera101| aberal01|\n",
            "+---------+---------+----------+--------+------------+----------+------------+---------+----------+--------+------------+----------+----------------+---------+-----------+----------------+------+------+----+------+-------------------+-------------------+--------+---------+\n",
            "only showing top 20 rows\n",
            "\n"
          ],
          "name": "stdout"
        }
      ]
    },
    {
      "cell_type": "code",
      "metadata": {
        "colab": {
          "base_uri": "https://localhost:8080/"
        },
        "id": "4quifr8W3iRS",
        "outputId": "1fe717e8-d96b-4c68-e36f-73850fdc9ac5"
      },
      "source": [
        "spark.sql(\"SELECT * FROM people WHERE birthYear>1990\").show()"
      ],
      "execution_count": null,
      "outputs": [
        {
          "output_type": "stream",
          "text": [
            "+---------+---------+----------+--------+------------+-----------------+--------------------+---------+----------+--------+------------+----------+---------+---------+---------+--------------------+------+------+----+------+-------------------+-------------------+--------+---------+\n",
            "| playerID|birthYear|birthMonth|birthDay|birthCountry|       birthState|           birthCity|deathYear|deathMonth|deathDay|deathCountry|deathState|deathCity|nameFirst| nameLast|           nameGiven|weight|height|bats|throws|              debut|          finalGame| retroID|  bbrefID|\n",
            "+---------+---------+----------+--------+------------+-----------------+--------------------+---------+----------+--------+------------+----------+---------+---------+---------+--------------------+------+------+----+------+-------------------+-------------------+--------+---------+\n",
            "|abreual01|     1995|         9|      26|        D.R.|     Monte Cristi|            Guayubin|     null|      null|    null|        null|      null|     null|   Albert|    Abreu|     Albert Enmanuel|   190|    74|   R|     R|2020-08-08 00:00:00|2020-09-03 00:00:00|abrea001|abreual01|\n",
            "|abreubr01|     1997|         4|      22|        D.R.|Distrito Nacional|       Santo Domingo|     null|      null|    null|        null|      null|     null|    Bryan|    Abreu|       Bryan Enrique|   225|    73|   R|     R|2019-07-31 00:00:00|2020-08-04 00:00:00|abreb002|abreubr01|\n",
            "|acunaro01|     1997|        12|      18|   Venezuela|        La Guaira|           La Guaira|     null|      null|    null|        null|      null|     null|   Ronald|    Acuna|         Ronald Jose|   205|    72|   R|     R|2018-04-25 00:00:00|2020-09-26 00:00:00|acunr001|acunaro01|\n",
            "|adamecr01|     1991|         7|      26|        D.R.|Distrito Nacional|       Santo Domingo|     null|      null|    null|        null|      null|     null|Cristhian|   Adames|   Cristhian Pascual|   217|    71|   B|     R|2014-07-29 00:00:00|2019-09-29 00:00:00|adamc001|adamecr01|\n",
            "|adamewi01|     1995|         9|       2|        D.R.|         Santiago|            Santiago|     null|      null|    null|        null|      null|     null|    Willy|   Adames|        Willy Rafael|   210|    72|   R|     R|2018-05-22 00:00:00|2020-09-26 00:00:00|adamw002|adamewi01|\n",
            "| adamja01|     1991|         8|       4|         USA|               NE|               Omaha|     null|      null|    null|        null|      null|     null|    Jason|     Adam|       Jason Kendall|   229|    75|   R|     R|2018-05-05 00:00:00|2020-09-26 00:00:00|adamj002| adamja01|\n",
            "|adamsau02|     1991|         5|       5|         USA|               FL|               Tampa|     null|      null|    null|        null|      null|     null|   Austin|    Adams|        Austin Lance|   220|    75|   R|     R|2017-07-15 00:00:00|2020-09-27 00:00:00|adama002|adamsau02|\n",
            "|adamsch01|     1994|         8|      10|         USA|               AZ|          Scottsdale|     null|      null|    null|        null|      null|     null|   Chance|    Adams|              Chance|   215|    73|   R|     R|2018-08-04 00:00:00|2020-09-22 00:00:00|adamc002|adamsch01|\n",
            "|adelljo01|     1999|         4|       8|         USA|               NC|              Shelby|     null|      null|    null|        null|      null|     null|       Jo|    Adell|        Jordon Scott|   215|    75|   R|     R|2020-08-04 00:00:00|2020-09-27 00:00:00|adelj001|adelljo01|\n",
            "|agrazda01|     1994|        12|      28|      Panama|            Cocle|           Aguadulce|     null|      null|    null|        null|      null|     null|    Dario|  Agrazal|        Dario Abdiel|   225|    74|   R|     R|2019-06-15 00:00:00|2019-09-25 00:00:00|agrad001|agrazda01|\n",
            "| akinke01|     1995|         4|       1|         USA|               MI|                Alma|     null|      null|    null|        null|      null|     null|   Keegan|     Akin|          Keegan Lee|   225|    72|   L|     L|2020-08-14 00:00:00|2020-09-27 00:00:00|akink001| akinke01|\n",
            "|alanirj01|     1991|         6|      14|         USA|               TX|             McAllen|     null|      null|    null|        null|      null|     null|    R. J.|   Alaniz|               Ruben|   220|    76|   R|     R|2019-04-12 00:00:00|2019-09-28 00:00:00|alanr001|alanirj01|\n",
            "|alberha01|     1992|        10|      17|        D.R.|           Duarte|San Francisco de ...|     null|      null|    null|        null|      null|     null|   Hanser|  Alberto|         Hanser Joel|   215|    71|   R|     R|2015-05-29 00:00:00|2020-09-27 00:00:00|albeh001|alberha01|\n",
            "|albieoz01|     1997|         1|       7|     Curacao|             null|          Willemstad|     null|      null|    null|        null|      null|     null|    Ozzie|   Albies|Ozhaino Jurdy Jia...|   165|    68|   B|     R|2017-08-01 00:00:00|2020-09-27 00:00:00|albio001|albieoz01|\n",
            "|alcaljo01|     1995|         7|      28|        D.R.|    San Cristobal|      Bajos de Haina|     null|      null|    null|        null|      null|     null|    Jorge|   Alcala|          Jorge Luis|   205|    75|   R|     R|2019-09-21 00:00:00|2020-09-27 00:00:00|alcaj001|alcaljo01|\n",
            "|alcanar01|     1991|        10|      29|        D.R.|Distrito Nacional|       Santo Domingo|     null|      null|    null|        null|      null|     null|Arismendy|Alcantara|           Arismendy|   170|    70|   B|     R|2014-07-09 00:00:00|2017-08-09 00:00:00|alcaa001|alcanar01|\n",
            "|alcanra01|     1992|        12|       4|        D.R.|         Barahona|            Barahona|     null|      null|    null|        null|      null|     null|     Raul|Alcantara|                Raul|   220|    76|   R|     R|2016-09-05 00:00:00|2017-09-29 00:00:00|alcar001|alcanra01|\n",
            "|alcansa01|     1995|         9|       7|        D.R.|             Azua|                Azua|     null|      null|    null|        null|      null|     null|    Sandy|Alcantara|               Sandy|   200|    77|   R|     R|2017-09-03 00:00:00|2020-09-25 00:00:00|alcas001|alcansa01|\n",
            "|alcanse01|     1996|         7|      10|        D.R.|    Santo Domingo|  Santo Domingo Este|     null|      null|    null|        null|      null|     null|   Sergio|Alcantara|       Sergio Junior|   151|    69|   B|     R|2020-09-06 00:00:00|2020-09-27 00:00:00|alcas002|alcanse01|\n",
            "|alcanvi01|     1993|         4|       3|        D.R.|Distrito Nacional|       Santo Domingo|     null|      null|    null|        null|      null|     null|   Victor|Alcantara|      Victor Alfonso|   190|    74|   R|     R|2017-09-05 00:00:00|2019-09-29 00:00:00|alcav001|alcanvi01|\n",
            "+---------+---------+----------+--------+------------+-----------------+--------------------+---------+----------+--------+------------+----------+---------+---------+---------+--------------------+------+------+----+------+-------------------+-------------------+--------+---------+\n",
            "only showing top 20 rows\n",
            "\n"
          ],
          "name": "stdout"
        }
      ]
    },
    {
      "cell_type": "markdown",
      "metadata": {
        "id": "CGiwTDTq7rqs"
      },
      "source": [
        "#Visualización con Matplotlib"
      ]
    },
    {
      "cell_type": "markdown",
      "metadata": {
        "id": "-ZL0QH7g7u6n"
      },
      "source": [
        "Ahora vamos a echar un vistazo en profundidad al paquete Matplotlib para su visualización en Python. Matplotlib es una librería de visualización de datos multiplataforma construida sobre matrices NumPy, y diseñada para trabajar con la pila más amplia de SciPy. Fue concebida por John Hunter en 2002, originalmente como un parche para IPython para permitir el trazado interactivo al estilo MATLAB mediante gnuplot desde la línea de comandos de IPython. El creador de IPython, Fernando Pérez, estaba en ese momento luchando por terminar su doctorado, y le hizo saber a John que no tendría tiempo de revisar el parche por varios meses. John tomó esto como una señal para ponerse en marcha por su cuenta, y así nació el paquete Matplotlib, con la versión 0.1 lanzada en 2003. Recibió un temprano impulso cuando fue adoptado como el paquete de trazado elegido por el Instituto de Ciencia del Telescopio Espacial (la gente detrás del Telescopio Hubble), que apoyó financieramente el desarrollo de Matplotlib y amplió enormemente sus capacidades.\n",
        "\n",
        "Una de las características más importantes de Matplotlib es su capacidad de funcionar bien con muchos sistemas operativos y soportes gráficos. Matplotlib soporta docenas de backends y tipos de salida, lo que significa que puede contar con que funcionará independientemente del sistema operativo que esté utilizando o del formato de salida que desee. Este enfoque multiplataforma y de todo para todos ha sido una de las grandes fortalezas de Matplotlib. Ha dado lugar a una gran base de usuarios, que a su vez ha dado lugar a una activa base de desarrolladores y a las poderosas herramientas y ubicuidad de Matplotlib dentro del mundo científico de Python."
      ]
    },
    {
      "cell_type": "markdown",
      "metadata": {
        "id": "jEWdN1Lz79rR"
      },
      "source": [
        "##Importando dependencias"
      ]
    },
    {
      "cell_type": "code",
      "metadata": {
        "id": "MhphsDsH8BjS"
      },
      "source": [
        "import matplotlib as mpl\n",
        "import matplotlib.pyplot as plt"
      ],
      "execution_count": null,
      "outputs": []
    },
    {
      "cell_type": "markdown",
      "metadata": {
        "id": "rnQ4Wt4F8FMQ"
      },
      "source": [
        "##Estilo"
      ]
    },
    {
      "cell_type": "code",
      "metadata": {
        "id": "YmbAEMS58Jkw"
      },
      "source": [
        ""
      ],
      "execution_count": null,
      "outputs": []
    },
    {
      "cell_type": "markdown",
      "metadata": {
        "id": "GV3sMXmO8wMR"
      },
      "source": [
        "##Línea de puntos"
      ]
    },
    {
      "cell_type": "code",
      "metadata": {
        "colab": {
          "base_uri": "https://localhost:8080/",
          "height": 295
        },
        "id": "NtIeXge_8ycw",
        "outputId": "df737f6a-1bd2-418f-cb3b-089d7d430148"
      },
      "source": [
        "x  = [1, 2, 3, 4, 5, 6, 7, 8, 9]\n",
        "y1 = [1, 3, 5, 3, 1, 3, 5, 3, 1]\n",
        "y2 = [2, 4, 6, 4, 2, 4, 6, 4, 2]\n",
        "plt.plot(x, y1, label=\"line L\")\n",
        "plt.plot(x, y2, label=\"line H\")\n",
        "plt.plot()\n",
        "\n",
        "plt.xlabel(\"x axis\")\n",
        "plt.ylabel(\"y axis\")\n",
        "plt.title(\"Line Graph Example\")\n",
        "plt.legend()\n",
        "plt.show()"
      ],
      "execution_count": null,
      "outputs": [
        {
          "output_type": "display_data",
          "data": {
            "image/png": "[encoded data removed]",
            "text/plain": [
              "<Figure size 432x288 with 1 Axes>"
            ]
          },
          "metadata": {
            "tags": [],
            "needs_background": "light"
          }
        }
      ]
    },
    {
      "cell_type": "markdown",
      "metadata": {
        "id": "nyrAcbRt810o"
      },
      "source": [
        "##Barras"
      ]
    },
    {
      "cell_type": "code",
      "metadata": {
        "colab": {
          "base_uri": "https://localhost:8080/",
          "height": 295
        },
        "id": "m5zDvkCM84rb",
        "outputId": "09057340-66e3-45f1-db30-5dc0ac523e6d"
      },
      "source": [
        "# Look at index 4 and 6, which demonstrate overlapping cases.\n",
        "x1 = [1, 3, 4, 5, 6, 7, 9]\n",
        "y1 = [4, 7, 2, 4, 7, 8, 3]\n",
        "\n",
        "x2 = [2, 4, 6, 8, 10]\n",
        "y2 = [5, 6, 2, 6, 2]\n",
        "\n",
        "# Colors: https://matplotlib.org/api/colors_api.html\n",
        "\n",
        "plt.bar(x1, y1, label=\"Blue Bar\", color='b')\n",
        "plt.bar(x2, y2, label=\"Green Bar\", color='g')\n",
        "plt.plot()\n",
        "\n",
        "plt.xlabel(\"bar number\")\n",
        "plt.ylabel(\"bar height\")\n",
        "plt.title(\"Bar Chart Example\")\n",
        "plt.legend()\n",
        "plt.show()"
      ],
      "execution_count": null,
      "outputs": [
        {
          "output_type": "display_data",
          "data": {
            "image/png": "[encoded data removed]",
            "text/plain": [
              "<Figure size 432x288 with 1 Axes>"
            ]
          },
          "metadata": {
            "tags": [],
            "needs_background": "light"
          }
        }
      ]
    },
    {
      "cell_type": "markdown",
      "metadata": {
        "id": "xOetX7Ty88Ov"
      },
      "source": [
        "##Histrogramas"
      ]
    },
    {
      "cell_type": "code",
      "metadata": {
        "colab": {
          "base_uri": "https://localhost:8080/",
          "height": 809
        },
        "id": "yMrPnD3v9ADD",
        "outputId": "3172faeb-fa2a-4744-d6a4-83d0b8425044"
      },
      "source": [
        "# Use numpy to generate a bunch of random data in a bell curve around 5.\n",
        "n = 5 + np.random.randn(1000)\n",
        "\n",
        "m = [m for m in range(len(n))]\n",
        "plt.bar(m, n)\n",
        "plt.title(\"Raw Data\")\n",
        "plt.show()\n",
        "\n",
        "plt.hist(n, bins=20)\n",
        "plt.title(\"Histogram\")\n",
        "plt.show()\n",
        "\n",
        "plt.hist(n, cumulative=True, bins=20)\n",
        "plt.title(\"Cumulative Histogram\")\n",
        "plt.show()"
      ],
      "execution_count": null,
      "outputs": [
        {
          "output_type": "display_data",
          "data": {
            "image/png": "[encoded data removed]",
            "text/plain": [
              "<Figure size 432x288 with 1 Axes>"
            ]
          },
          "metadata": {
            "tags": [],
            "needs_background": "light"
          }
        },
        {
          "output_type": "display_data",
          "data": {
            "image/png": "[encoded data removed]",
            "text/plain": [
              "<Figure size 432x288 with 1 Axes>"
            ]
          },
          "metadata": {
            "tags": [],
            "needs_background": "light"
          }
        },
        {
          "output_type": "display_data",
          "data": {
            "image/png": "[encoded data removed]",
            "text/plain": [
              "<Figure size 432x288 with 1 Axes>"
            ]
          },
          "metadata": {
            "tags": [],
            "needs_background": "light"
          }
        }
      ]
    },
    {
      "cell_type": "markdown",
      "metadata": {
        "id": "x6_oLfvx9Dcg"
      },
      "source": [
        "##Scatter"
      ]
    },
    {
      "cell_type": "code",
      "metadata": {
        "colab": {
          "base_uri": "https://localhost:8080/",
          "height": 281
        },
        "id": "1ZXHUmSq9P7z",
        "outputId": "6f5ff3a2-e6a7-4f8d-ce7b-47ad1bddf237"
      },
      "source": [
        "x1 = [2, 3, 4]\n",
        "y1 = [5, 5, 5]\n",
        "\n",
        "x2 = [1, 2, 3, 4, 5]\n",
        "y2 = [2, 3, 2, 3, 4]\n",
        "y3 = [6, 8, 7, 8, 7]\n",
        "\n",
        "# Markers: https://matplotlib.org/api/markers_api.html\n",
        "\n",
        "plt.scatter(x1, y1)\n",
        "plt.scatter(x2, y2, marker='v', color='r')\n",
        "plt.scatter(x2, y3, marker='^', color='m')\n",
        "plt.title('Scatter Plot Example')\n",
        "plt.show()"
      ],
      "execution_count": null,
      "outputs": [
        {
          "output_type": "display_data",
          "data": {
            "image/png": "[encoded data removed]",
            "text/plain": [
              "<Figure size 432x288 with 1 Axes>"
            ]
          },
          "metadata": {
            "tags": [],
            "needs_background": "light"
          }
        }
      ]
    },
    {
      "cell_type": "markdown",
      "metadata": {
        "id": "qDfKgt5Y9cZe"
      },
      "source": [
        "##Guardar gráficos al disco\n",
        "Una buena característica de Matplotlib es la capacidad de guardar figuras en una amplia variedad de formatos. Guardar una figura se puede hacer usando el comando savefig(). Por ejemplo, para guardar la figura anterior como un archivo PNG, puedes ejecutar esto:"
      ]
    },
    {
      "cell_type": "code",
      "metadata": {
        "colab": {
          "base_uri": "https://localhost:8080/",
          "height": 265
        },
        "id": "LmMh3ZvX9nwV",
        "outputId": "83e5f815-5136-4b19-8564-a5499a43eeed"
      },
      "source": [
        "x = np.linspace(0, 10, 100)\n",
        "\n",
        "fig = plt.figure()\n",
        "plt.plot(x, np.sin(x), '-')\n",
        "plt.plot(x, np.cos(x), '--');\n",
        "\n",
        "fig.savefig('my_figure.png')"
      ],
      "execution_count": null,
      "outputs": [
        {
          "output_type": "display_data",
          "data": {
            "image/png": "[encoded data removed]",
            "text/plain": [
              "<Figure size 432x288 with 1 Axes>"
            ]
          },
          "metadata": {
            "tags": [],
            "needs_background": "light"
          }
        }
      ]
    },
    {
      "cell_type": "markdown",
      "metadata": {
        "id": "v-IRLtMwcuER"
      },
      "source": [
        "#Trabajar con Pandas"
      ]
    },
    {
      "cell_type": "code",
      "metadata": {
        "id": "jSA8kMNPdBBX"
      },
      "source": [
        "import numpy as np\n",
        "import pandas as pd\n",
        "\n",
        "# Enable Arrow-based columnar data transfers\n",
        "spark.conf.set(\"spark.sql.execution.arrow.enabled\", \"true\")\n",
        "\n",
        "# Generate a pandas DataFrame\n",
        "pdf = pd.DataFrame(np.random.rand(100, 3))\n",
        "\n",
        "# Create a Spark DataFrame from a pandas DataFrame using Arrow\n",
        "df = spark.createDataFrame(pdf)\n",
        "\n",
        "# Convert the Spark DataFrame back to a pandas DataFrame using Arrow\n",
        "result_pdf = df.select(\"*\").toPandas()"
      ],
      "execution_count": null,
      "outputs": []
    },
    {
      "cell_type": "markdown",
      "metadata": {
        "id": "QNZm3uBPdPJm"
      },
      "source": [
        "https://spark.apache.org/docs/latest/sql-pyspark-pandas-with-arrow.html"
      ]
    },
    {
      "cell_type": "markdown",
      "metadata": {
        "id": "qGV5Rs-f7COd"
      },
      "source": [
        "#Ejemplos"
      ]
    },
    {
      "cell_type": "markdown",
      "metadata": {
        "id": "JWc9gqRo7E1z"
      },
      "source": [
        "##Cálculo del número PI"
      ]
    },
    {
      "cell_type": "code",
      "metadata": {
        "colab": {
          "base_uri": "https://localhost:8080/"
        },
        "id": "CgDd229_7HQq",
        "outputId": "ca799681-81ec-4492-ff08-2eb27c227682"
      },
      "source": [
        "from time import time\n",
        "import numpy as np\n",
        "from random import random\n",
        "from operator import add\n",
        "\n",
        "sc = spark.sparkContext\n",
        "\n",
        "n = 10000000\n",
        "\n",
        "\n",
        "def is_point_inside_unit_circle(p):\n",
        "    # p is useless here\n",
        "    x, y = random(), random()\n",
        "    return 1 if x*x + y*y < 1 else 0\n",
        "\n",
        "\n",
        "t_0 = time()\n",
        "\n",
        "# parallelize creates a spark Resilient Distributed Dataset (RDD)\n",
        "# its values are useless in this case\n",
        "# but allows us to distribute our calculation (inside function)\n",
        "count = sc.parallelize(range(0, n)) \\\n",
        "             .map(is_point_inside_unit_circle).reduce(add)\n",
        "print(np.round(time()-t_0, 3), \"seconds elapsed for spark approach and n=\", n)\n",
        "print(\"Pi is roughly %f\" % (4.0 * count / n))"
      ],
      "execution_count": null,
      "outputs": [
        {
          "output_type": "stream",
          "text": [
            "7.319 seconds elapsed for spark approach and n= 10000000\n",
            "Pi is roughly 3.141681\n"
          ],
          "name": "stdout"
        }
      ]
    },
    {
      "cell_type": "markdown",
      "metadata": {
        "id": "ISw1JP9oz6kw"
      },
      "source": [
        "# Montaje de Google Drive en Google Colab"
      ]
    },
    {
      "cell_type": "code",
      "metadata": {
        "colab": {
          "base_uri": "https://localhost:8080/"
        },
        "id": "7evD17EJCqTL",
        "outputId": "87d9c71f-4c62-42d9-b1f8-0225a78671ca"
      },
      "source": [
        "from google.colab import drive\n",
        "drive.mount('/content/drive')"
      ],
      "execution_count": null,
      "outputs": [
        {
          "output_type": "stream",
          "text": [
            "Mounted at /content/drive\n"
          ],
          "name": "stdout"
        }
      ]
    },
    {
      "cell_type": "markdown",
      "metadata": {
        "id": "yALZMRjb48uU"
      },
      "source": [
        "#Ejercicios"
      ]
    },
    {
      "cell_type": "markdown",
      "metadata": {
        "id": "aJFjhXrP5AOo"
      },
      "source": [
        "##Word Count"
      ]
    },
    {
      "cell_type": "code",
      "metadata": {
        "colab": {
          "resources": {
            "http://localhost:8080/nbextensions/google.colab/files.js": {
              "data": "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",
              "ok": true,
              "headers": [
                [
                  "content-type",
                  "application/javascript"
                ]
              ],
              "status": 200,
              "status_text": ""
            }
          },
          "base_uri": "https://localhost:8080/",
          "height": 39
        },
        "id": "hjxpDwEe5Fzp",
        "outputId": "d9262f26-47b7-4a76-c383-6ea8366cc442"
      },
      "source": [
        "from google.colab import files\n",
        "datafile = files.upload()"
      ],
      "execution_count": null,
      "outputs": [
        {
          "output_type": "display_data",
          "data": {
            "text/html": [
              "\n",
              "     <input type=\"file\" id=\"files-e89cc30e-751d-4ec2-8261-047ff71836c2\" name=\"files[]\" multiple disabled\n",
              "        style=\"border:none\" />\n",
              "     <output id=\"result-e89cc30e-751d-4ec2-8261-047ff71836c2\">\n",
              "      Upload widget is only available when the cell has been executed in the\n",
              "      current browser session. Please rerun this cell to enable.\n",
              "      </output>\n",
              "      <script src=\"/nbextensions/google.colab/files.js\"></script> "
            ],
            "text/plain": [
              "<IPython.core.display.HTML object>"
            ]
          },
          "metadata": {
            "tags": []
          }
        }
      ]
    },
    {
      "cell_type": "markdown",
      "metadata": {
        "id": "xPJ0Lt7a5H4t"
      },
      "source": [
        "## Trend topic de Twitter"
      ]
    },
    {
      "cell_type": "markdown",
      "metadata": {
        "id": "2EjJMsqLp1JO"
      },
      "source": [
        "https://www.w3schools.com/python/python_ref_string.asp"
      ]
    },
    {
      "cell_type": "code",
      "metadata": {
        "id": "BwR6ibnq5uYq"
      },
      "source": [
        "from google.colab import files\n",
        "datafile = files.upload()"
      ],
      "execution_count": null,
      "outputs": []
    },
    {
      "cell_type": "markdown",
      "metadata": {
        "id": "rkbRosw85xTK"
      },
      "source": [
        "Lectura del conjunto de datos"
      ]
    },
    {
      "cell_type": "code",
      "metadata": {
        "id": "PKl1JPdN50hL"
      },
      "source": [
        "df = spark.read.json('......')"
      ],
      "execution_count": null,
      "outputs": []
    }
  ]
}